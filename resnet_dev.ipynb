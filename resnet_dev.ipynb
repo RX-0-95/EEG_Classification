{
 "metadata": {
  "language_info": {
   "codemirror_mode": {
    "name": "ipython",
    "version": 3
   },
   "file_extension": ".py",
   "mimetype": "text/x-python",
   "name": "python",
   "nbconvert_exporter": "python",
   "pygments_lexer": "ipython3",
   "version": "3.8.5-final"
  },
  "orig_nbformat": 2,
  "kernelspec": {
   "name": "python3",
   "display_name": "Python 3.8.5 64-bit ('.venv')",
   "metadata": {
    "interpreter": {
     "hash": "38efbb7de01d3aab19d9ed5849c98dfab9ed16c9875c18769b7a1b3387fe98cf"
    }
   }
  }
 },
 "nbformat": 4,
 "nbformat_minor": 2,
 "cells": [
  {
   "source": [
    "### Test residual block \n"
   ],
   "cell_type": "markdown",
   "metadata": {}
  },
  {
   "cell_type": "code",
   "execution_count": 1,
   "metadata": {},
   "outputs": [],
   "source": [
    "from eeg_net.eeg_resnet import * \n",
    "from eeg_net.eeg_net_base import *\n",
    "import numpy as np \n",
    "import matplotlib.pyplot as plt \n",
    "from torchsummary import summary\n",
    "%load_ext autoreload\n",
    "%autoreload 2\n",
    "%matplotlib inline\n",
    "plt.rcParams['figure.figsize'] = [12, 8]\n",
    "plt.rcParams['figure.dpi'] = 200"
   ]
  },
  {
   "cell_type": "code",
   "execution_count": null,
   "metadata": {},
   "outputs": [],
   "source": [
    "conv= conv3x3(in_channels=32, out_channels=64)\n",
    "print(conv)\n",
    "dummy = torch.ones((1,1,1,1))\n",
    "print(dummy)\n",
    "block = ResidualBlock(1,64)\n",
    "block(dummy)"
   ]
  },
  {
   "cell_type": "code",
   "execution_count": null,
   "metadata": {},
   "outputs": [],
   "source": [
    "dummy = torch.ones((1,32,224,224))\n",
    "block = ResNetBasicBlock(32,64)\n",
    "print(block(dummy).shape)\n",
    "print(block)"
   ]
  },
  {
   "source": [
    "### ResNoteBottleNeckBlock test "
   ],
   "cell_type": "markdown",
   "metadata": {}
  },
  {
   "cell_type": "code",
   "execution_count": null,
   "metadata": {},
   "outputs": [],
   "source": [
    "dummy = torch.ones((1,32,10,10))\n",
    "block = ResNetBottleNeckBlock(32,64)\n",
    "block(dummy).shape\n",
    "print(block)"
   ]
  },
  {
   "source": [
    "### ResNetLayer test "
   ],
   "cell_type": "markdown",
   "metadata": {}
  },
  {
   "cell_type": "code",
   "execution_count": null,
   "metadata": {},
   "outputs": [],
   "source": [
    "dummy = torch.ones((1, 64, 48, 48))\n",
    "\n",
    "layer = ResNetLayer(64, 128, block=ResNetBasicBlock, n=3)\n",
    "layer(dummy).shape"
   ]
  },
  {
   "cell_type": "code",
   "execution_count": 2,
   "metadata": {},
   "outputs": [
    {
     "output_type": "stream",
     "name": "stdout",
     "text": [
      "Training/Valid data shape: (2115, 22, 1000)\nTest data shape: (443, 22, 1000)\nTraining/Valid target shape: (2115,)\nTest target shape: (443,)\nPerson train/valid shape: (2115, 1)\nPerson test shape: (443, 1)\n"
     ]
    }
   ],
   "source": [
    "X_test = np.load(\"data/X_test.npy\")\n",
    "y_test = np.load(\"data/y_test.npy\")\n",
    "person_train_valid = np.load(\"data/person_train_valid.npy\")\n",
    "X_train_valid = np.load(\"data/X_train_valid.npy\")\n",
    "y_train_valid = np.load(\"data/y_train_valid.npy\")\n",
    "person_test = np.load(\"data/person_test.npy\")\n",
    "\n",
    "print ('Training/Valid data shape: {}'.format(X_train_valid.shape))\n",
    "print ('Test data shape: {}'.format(X_test.shape))\n",
    "print ('Training/Valid target shape: {}'.format(y_train_valid.shape))\n",
    "print ('Test target shape: {}'.format(y_test.shape))\n",
    "print ('Person train/valid shape: {}'.format(person_train_valid.shape))\n",
    "print ('Person test shape: {}'.format(person_test.shape))\n",
    "X_test_dir = './data/X_test.npy'\n",
    "y_test_dir = './data/y_test.npy' \n",
    "X_train_valid_dir = './data/X_train_valid.npy' \n",
    "y_train_valid_dir = './data/y_train_valid.npy'\n"
   ]
  },
  {
   "cell_type": "code",
   "execution_count": null,
   "metadata": {},
   "outputs": [],
   "source": [
    "model = EEGResNet(1,4)\n",
    "options = {\n",
    "    'train_batch_size': 32,\n",
    "    'scheduler_patience': 100,\n",
    "    'weight_decay': 0.15,\n",
    "    'val_batch_size': 1 \n",
    "}\n",
    "train_val_data = eeg_train_val_loader(\n",
    "    X_train_valid_dir, y_train_valid_dir,device='cpu')\n",
    "train_loader= train_val_data['train']\n",
    "val_loader = train_val_data['val']\n",
    "x ,y = [],[]\n",
    "for data in train_loader:\n",
    "    x,y = data \n",
    "    break \n",
    "\n"
   ]
  },
  {
   "cell_type": "code",
   "execution_count": null,
   "metadata": {},
   "outputs": [],
   "source": []
  },
  {
   "cell_type": "code",
   "execution_count": null,
   "metadata": {
    "tags": []
   },
   "outputs": [],
   "source": [
    "model = EEGResNet(1,4).to('cuda')\n",
    "options = {\n",
    "    'train_batch_size': 32,\n",
    "    'scheduler_patience': 100,\n",
    "    'weight_decay': 0.15,\n",
    "    'val_batch_size': 1,\n",
    "    'learning_rate': 1e-3,\n",
    "    'epoch_num': 150,\n",
    "}\n",
    "train_val_data = eeg_train_val_loader(\n",
    "    X_train_valid_dir, y_train_valid_dir)\n",
    "loss_fn = nn.CrossEntropyLoss()\n",
    "logs,_= train(model, options, loss_fn,\n",
    "        data_dir=X_train_valid_dir,\n",
    "        label_dir=y_train_valid_dir,\n",
    "        preload_gpu=True)\n"
   ]
  },
  {
   "source": [
    "### Data Preprocess \n",
    "#### shift_positive"
   ],
   "cell_type": "markdown",
   "metadata": {}
  },
  {
   "cell_type": "code",
   "execution_count": null,
   "metadata": {},
   "outputs": [],
   "source": [
    "model = EEGResNet(1,4).to('cuda')\n",
    "options = {\n",
    "    'train_batch_size': 32,\n",
    "    'scheduler_patience': 80,\n",
    "    'weight_decay': 0.15,\n",
    "    'val_batch_size': 1,\n",
    "    'learning_rate': 1e-3,\n",
    "    'epoch_num': 300,\n",
    "}\n",
    "train_val_data = eeg_train_val_loader(\n",
    "    X_train_valid_dir, y_train_valid_dir)\n",
    "loss_fn = nn.CrossEntropyLoss()\n",
    "logs,_= train(model, options, loss_fn,\n",
    "        data_dir=X_train_valid_dir,\n",
    "        label_dir=y_train_valid_dir,\n",
    "        preload_gpu=True)"
   ]
  },
  {
   "cell_type": "code",
   "execution_count": null,
   "metadata": {
    "tags": [
     "outputPrepend"
    ]
   },
   "outputs": [],
   "source": [
    "model = EEGResNetV2(1,4).to('cuda')\n",
    "options = {\n",
    "    'train_batch_size': 32,\n",
    "    'scheduler_patience': 80,\n",
    "    'weight_decay': 0.15,\n",
    "    'val_batch_size': 1,\n",
    "    'learning_rate': 1e-4,\n",
    "    'epoch_num': 350,\n",
    "    'transform': 'none'\n",
    "}\n",
    "train_val_data = eeg_train_val_loader(\n",
    "    X_train_valid_dir, y_train_valid_dir)\n",
    "loss_fn = nn.CrossEntropyLoss()\n",
    "logs,_= train(model, options, loss_fn,\n",
    "        data_dir=X_train_valid_dir,\n",
    "        label_dir=y_train_valid_dir,\n",
    "        preload_gpu=True)"
   ]
  },
  {
   "cell_type": "code",
   "execution_count": 2,
   "metadata": {},
   "outputs": [
    {
     "output_type": "error",
     "ename": "NameError",
     "evalue": "name 'ShallowConv' is not defined",
     "traceback": [
      "\u001b[0;31m---------------------------------------------------------------------------\u001b[0m",
      "\u001b[0;31mNameError\u001b[0m                                 Traceback (most recent call last)",
      "\u001b[0;32m<ipython-input-2-be0d0834c804>\u001b[0m in \u001b[0;36m<module>\u001b[0;34m\u001b[0m\n\u001b[0;32m----> 1\u001b[0;31m \u001b[0mmodel\u001b[0m \u001b[0;34m=\u001b[0m \u001b[0mShallowConv\u001b[0m\u001b[0;34m(\u001b[0m\u001b[0;36m1\u001b[0m\u001b[0;34m,\u001b[0m\u001b[0;36m4\u001b[0m\u001b[0;34m)\u001b[0m\u001b[0;34m\u001b[0m\u001b[0;34m\u001b[0m\u001b[0m\n\u001b[0m\u001b[1;32m      2\u001b[0m \u001b[0msummary\u001b[0m\u001b[0;34m(\u001b[0m\u001b[0mmodel\u001b[0m\u001b[0;34m.\u001b[0m\u001b[0mcuda\u001b[0m\u001b[0;34m(\u001b[0m\u001b[0;34m)\u001b[0m\u001b[0;34m,\u001b[0m\u001b[0;34m(\u001b[0m\u001b[0;36m1\u001b[0m\u001b[0;34m,\u001b[0m\u001b[0;36m22\u001b[0m\u001b[0;34m,\u001b[0m\u001b[0;36m1000\u001b[0m\u001b[0;34m)\u001b[0m\u001b[0;34m)\u001b[0m\u001b[0;34m\u001b[0m\u001b[0;34m\u001b[0m\u001b[0m\n\u001b[1;32m      3\u001b[0m \u001b[0mmodel\u001b[0m \u001b[0;34m=\u001b[0m \u001b[0mEEGResNet\u001b[0m\u001b[0;34m(\u001b[0m\u001b[0;36m1\u001b[0m\u001b[0;34m,\u001b[0m\u001b[0;36m4\u001b[0m\u001b[0;34m)\u001b[0m\u001b[0;34m\u001b[0m\u001b[0;34m\u001b[0m\u001b[0m\n\u001b[1;32m      4\u001b[0m \u001b[0msummary\u001b[0m\u001b[0;34m(\u001b[0m\u001b[0mmodel\u001b[0m\u001b[0;34m.\u001b[0m\u001b[0mcuda\u001b[0m\u001b[0;34m(\u001b[0m\u001b[0;34m)\u001b[0m\u001b[0;34m,\u001b[0m\u001b[0;34m(\u001b[0m\u001b[0;36m1\u001b[0m\u001b[0;34m,\u001b[0m\u001b[0;36m22\u001b[0m\u001b[0;34m,\u001b[0m\u001b[0;36m1000\u001b[0m\u001b[0;34m)\u001b[0m\u001b[0;34m)\u001b[0m\u001b[0;34m\u001b[0m\u001b[0;34m\u001b[0m\u001b[0m\n",
      "\u001b[0;31mNameError\u001b[0m: name 'ShallowConv' is not defined"
     ]
    }
   ],
   "source": [
    "model = ShallowConv(1,4)\n",
    "summary(model.cuda(),(1,22,1000))\n",
    "model = EEGResNet(1,4)\n",
    "summary(model.cuda(),(1,22,1000))"
   ]
  },
  {
   "cell_type": "code",
   "execution_count": 23,
   "metadata": {},
   "outputs": [
    {
     "output_type": "stream",
     "name": "stdout",
     "text": [
      "----------------------------------------------------------------\n        Layer (type)               Output Shape         Param #\n================================================================\n            Conv2d-1          [-1, 32, 11, 500]           1,568\n       BatchNorm2d-2          [-1, 32, 11, 500]              64\n              ReLU-3          [-1, 32, 11, 500]               0\n         MaxPool2d-4           [-1, 32, 6, 250]               0\n        Conv2dAuto-5           [-1, 32, 6, 250]           9,216\n       BatchNorm2d-6           [-1, 32, 6, 250]              64\n              ReLU-7           [-1, 32, 6, 250]               0\n        Conv2dAuto-8           [-1, 32, 6, 250]           9,216\n       BatchNorm2d-9           [-1, 32, 6, 250]              64\n             ReLU-10           [-1, 32, 6, 250]               0\n ResNetBasicBlock-11           [-1, 32, 6, 250]               0\n      ResNetLayer-12           [-1, 32, 6, 250]               0\n           Conv2d-13           [-1, 64, 6, 125]           2,048\n      BatchNorm2d-14           [-1, 64, 6, 125]             128\n       Conv2dAuto-15           [-1, 64, 6, 125]          18,432\n      BatchNorm2d-16           [-1, 64, 6, 125]             128\n             ReLU-17           [-1, 64, 6, 125]               0\n       Conv2dAuto-18           [-1, 64, 6, 125]          36,864\n      BatchNorm2d-19           [-1, 64, 6, 125]             128\n             ReLU-20           [-1, 64, 6, 125]               0\n ResNetBasicBlock-21           [-1, 64, 6, 125]               0\n      ResNetLayer-22           [-1, 64, 6, 125]               0\n================================================================\nTotal params: 77,920\nTrainable params: 77,920\nNon-trainable params: 0\n----------------------------------------------------------------\nInput size (MB): 0.08\nForward/backward pass size (MB): 10.99\nParams size (MB): 0.30\nEstimated Total Size (MB): 11.37\n----------------------------------------------------------------\n"
     ]
    }
   ],
   "source": [
    "Encoder = ResNetEncoder(in_channels=1,block_sizes=[32,64],deepths=[1,1])\n",
    "summary(Encoder.cuda(),(1,22,1000))"
   ]
  },
  {
   "cell_type": "code",
   "execution_count": 32,
   "metadata": {},
   "outputs": [
    {
     "output_type": "stream",
     "name": "stdout",
     "text": [
      "----------------------------------------------------------------\n        Layer (type)               Output Shape         Param #\n================================================================\n            Conv2d-1          [-1, 16, 22, 976]             400\n       BatchNorm2d-2          [-1, 16, 22, 976]              32\n               ELU-3          [-1, 16, 22, 976]               0\n         MaxPool2d-4          [-1, 16, 22, 243]               0\n        Conv2dAuto-5          [-1, 16, 22, 243]           2,304\n       BatchNorm2d-6          [-1, 16, 22, 243]              32\n               ELU-7          [-1, 16, 22, 243]               0\n        Conv2dAuto-8          [-1, 16, 22, 243]           2,304\n       BatchNorm2d-9          [-1, 16, 22, 243]              32\n              ELU-10          [-1, 16, 22, 243]               0\nEEGResNetBasicBlock-11          [-1, 16, 22, 243]               0\n      ResNetLayer-12          [-1, 16, 22, 243]               0\n           Conv2d-13          [-1, 32, 22, 122]             512\n      BatchNorm2d-14          [-1, 32, 22, 122]              64\n       Conv2dAuto-15          [-1, 32, 22, 122]           4,608\n      BatchNorm2d-16          [-1, 32, 22, 122]              64\n              ELU-17          [-1, 32, 22, 122]               0\n       Conv2dAuto-18          [-1, 32, 22, 122]           9,216\n      BatchNorm2d-19          [-1, 32, 22, 122]              64\n              ELU-20          [-1, 32, 22, 122]               0\nEEGResNetBasicBlock-21          [-1, 32, 22, 122]               0\n      ResNetLayer-22          [-1, 32, 22, 122]               0\n           Conv2d-23           [-1, 64, 22, 61]           2,048\n      BatchNorm2d-24           [-1, 64, 22, 61]             128\n       Conv2dAuto-25           [-1, 64, 22, 61]          18,432\n      BatchNorm2d-26           [-1, 64, 22, 61]             128\n              ELU-27           [-1, 64, 22, 61]               0\n       Conv2dAuto-28           [-1, 64, 22, 61]          36,864\n      BatchNorm2d-29           [-1, 64, 22, 61]             128\n              ELU-30           [-1, 64, 22, 61]               0\nEEGResNetBasicBlock-31           [-1, 64, 22, 61]               0\n      ResNetLayer-32           [-1, 64, 22, 61]               0\n================================================================\nTotal params: 77,360\nTrainable params: 77,360\nNon-trainable params: 0\n----------------------------------------------------------------\nInput size (MB): 0.08\nForward/backward pass size (MB): 26.84\nParams size (MB): 0.30\nEstimated Total Size (MB): 27.22\n----------------------------------------------------------------\n64\n"
     ]
    }
   ],
   "source": [
    "model = EEGResNetV2(in_channels=1,classes=4,block_sizes=[16,32,64],deepths=[1,1,1])\n",
    "\n",
    "summary(model.encoder.cuda(),(1,22,1000))\n",
    "print(model.encoder.blocks[-1].blocks[-1].expanded_channels)\n"
   ]
  },
  {
   "cell_type": "code",
   "execution_count": 55,
   "metadata": {},
   "outputs": [
    {
     "output_type": "stream",
     "name": "stdout",
     "text": [
      "torch.Size([2, 756])\n----------------------------------------------------------------\n        Layer (type)               Output Shape         Param #\n================================================================\n            Conv2d-1          [-1, 32, 22, 976]             800\n       BatchNorm2d-2          [-1, 32, 22, 976]              64\n               ELU-3          [-1, 32, 22, 976]               0\n         MaxPool2d-4          [-1, 32, 22, 243]               0\n        Conv2dAuto-5          [-1, 32, 22, 243]           9,216\n       BatchNorm2d-6          [-1, 32, 22, 243]              64\n               ELU-7          [-1, 32, 22, 243]               0\n        Conv2dAuto-8          [-1, 32, 22, 243]           9,216\n       BatchNorm2d-9          [-1, 32, 22, 243]              64\n              ELU-10          [-1, 32, 22, 243]               0\nEEGResNetBasicBlock-11          [-1, 32, 22, 243]               0\n      ResNetLayer-12          [-1, 32, 22, 243]               0\n           Conv2d-13          [-1, 64, 22, 122]           2,048\n      BatchNorm2d-14          [-1, 64, 22, 122]             128\n       Conv2dAuto-15          [-1, 64, 22, 122]          18,432\n      BatchNorm2d-16          [-1, 64, 22, 122]             128\n              ELU-17          [-1, 64, 22, 122]               0\n       Conv2dAuto-18          [-1, 64, 22, 122]          36,864\n      BatchNorm2d-19          [-1, 64, 22, 122]             128\n              ELU-20          [-1, 64, 22, 122]               0\nEEGResNetBasicBlock-21          [-1, 64, 22, 122]               0\n      ResNetLayer-22          [-1, 64, 22, 122]               0\n           Conv2d-23           [-1, 32, 22, 61]           2,048\n      BatchNorm2d-24           [-1, 32, 22, 61]              64\n       Conv2dAuto-25           [-1, 32, 22, 61]          18,432\n      BatchNorm2d-26           [-1, 32, 22, 61]              64\n              ELU-27           [-1, 32, 22, 61]               0\n       Conv2dAuto-28           [-1, 32, 22, 61]           9,216\n      BatchNorm2d-29           [-1, 32, 22, 61]              64\n              ELU-30           [-1, 32, 22, 61]               0\nEEGResNetBasicBlock-31           [-1, 32, 22, 61]               0\n      ResNetLayer-32           [-1, 32, 22, 61]               0\n           Conv2d-33           [-1, 18, 22, 31]             576\n      BatchNorm2d-34           [-1, 18, 22, 31]              36\n       Conv2dAuto-35           [-1, 18, 22, 31]           5,184\n      BatchNorm2d-36           [-1, 18, 22, 31]              36\n              ELU-37           [-1, 18, 22, 31]               0\n       Conv2dAuto-38           [-1, 18, 22, 31]           2,916\n      BatchNorm2d-39           [-1, 18, 22, 31]              36\n              ELU-40           [-1, 18, 22, 31]               0\nEEGResNetBasicBlock-41           [-1, 18, 22, 31]               0\n      ResNetLayer-42           [-1, 18, 22, 31]               0\n EEGResNetEncoder-43           [-1, 18, 22, 31]               0\n        MaxPool2d-44             [-1, 18, 6, 7]               0\n           Linear-45                    [-1, 4]           3,028\n    ResNetDecoder-46                    [-1, 4]               0\n================================================================\nTotal params: 118,852\nTrainable params: 118,852\nNon-trainable params: 0\n----------------------------------------------------------------\nInput size (MB): 0.08\nForward/backward pass size (MB): 44.89\nParams size (MB): 0.45\nEstimated Total Size (MB): 45.43\n----------------------------------------------------------------\n"
     ]
    }
   ],
   "source": [
    "model = EEGResNetV2(in_channels=1,classes=4,block_sizes=[32,64,32,18],deepths=[1,1,1,1])\n",
    "summary(model.cuda(),(1,22,1000))\n"
   ]
  },
  {
   "cell_type": "code",
   "execution_count": 73,
   "metadata": {
    "tags": []
   },
   "outputs": [
    {
     "output_type": "stream",
     "name": "stdout",
     "text": [
      "Start training...\n",
      "Epoch\tTrain Loss\tTrain Acc\tTest Loss\tTest_Acc\t\n",
      "--Iter 49\t1.340543\n",
      "0\t1.380781\t0.284872\t1.372722\t0.290780\t\n",
      "--Iter 49\t1.324476\n",
      "1\t1.341683\t0.376600\t1.360296\t0.312057\t\n",
      "--Iter 49\t1.278270\n",
      "2\t1.316620\t0.402965\t1.336589\t0.361702\t\n",
      "--Iter 49\t1.305724\n",
      "3\t1.294854\t0.446344\t1.331293\t0.366430\t\n",
      "--Iter 49\t1.298347\n",
      "4\t1.276806\t0.476584\t1.330196\t0.364066\t\n",
      "--Iter 49\t1.278992\n",
      "5\t1.260261\t0.502527\t1.327237\t0.380615\t\n",
      "--Iter 49\t1.337516\n",
      "6\t1.246761\t0.515836\t1.328077\t0.366430\t\n",
      "--Iter 49\t1.207434\n",
      "7\t1.225773\t0.552729\t1.324869\t0.364066\t\n",
      "--Iter 49\t1.150235\n",
      "8\t1.210692\t0.565111\t1.320191\t0.375887\t\n",
      "--Iter 49\t1.169061\n",
      "9\t1.194836\t0.590296\t1.316095\t0.382979\t\n"
     ]
    },
    {
     "output_type": "error",
     "ename": "KeyboardInterrupt",
     "evalue": "",
     "traceback": [
      "\u001b[0;31m---------------------------------------------------------------------------\u001b[0m",
      "\u001b[0;31mKeyboardInterrupt\u001b[0m                         Traceback (most recent call last)",
      "\u001b[0;32m<ipython-input-73-4fc1b28db86b>\u001b[0m in \u001b[0;36m<module>\u001b[0;34m\u001b[0m\n\u001b[1;32m     13\u001b[0m     X_train_valid_dir, y_train_valid_dir)\n\u001b[1;32m     14\u001b[0m \u001b[0mloss_fn\u001b[0m \u001b[0;34m=\u001b[0m \u001b[0mnn\u001b[0m\u001b[0;34m.\u001b[0m\u001b[0mCrossEntropyLoss\u001b[0m\u001b[0;34m(\u001b[0m\u001b[0;34m)\u001b[0m\u001b[0;34m\u001b[0m\u001b[0;34m\u001b[0m\u001b[0m\n\u001b[0;32m---> 15\u001b[0;31m logs,_= train(model, options, loss_fn,\n\u001b[0m\u001b[1;32m     16\u001b[0m         \u001b[0mdata_dir\u001b[0m\u001b[0;34m=\u001b[0m\u001b[0mX_train_valid_dir\u001b[0m\u001b[0;34m,\u001b[0m\u001b[0;34m\u001b[0m\u001b[0;34m\u001b[0m\u001b[0m\n\u001b[1;32m     17\u001b[0m         \u001b[0mlabel_dir\u001b[0m\u001b[0;34m=\u001b[0m\u001b[0my_train_valid_dir\u001b[0m\u001b[0;34m,\u001b[0m\u001b[0;34m\u001b[0m\u001b[0;34m\u001b[0m\u001b[0m\n",
      "\u001b[0;32m~/Desktop/c247_project/eeg_net/eeg_net_base.py\u001b[0m in \u001b[0;36mtrain\u001b[0;34m(model, options, criterion, data_dir, label_dir, device, preload_gpu, verbose, plot_graph)\u001b[0m\n\u001b[1;32m    252\u001b[0m             \u001b[0;31m# Update the weights\u001b[0m\u001b[0;34m\u001b[0m\u001b[0;34m\u001b[0m\u001b[0;34m\u001b[0m\u001b[0m\n\u001b[1;32m    253\u001b[0m             \u001b[0moptimizer\u001b[0m\u001b[0;34m.\u001b[0m\u001b[0mstep\u001b[0m\u001b[0;34m(\u001b[0m\u001b[0;34m)\u001b[0m\u001b[0;34m\u001b[0m\u001b[0;34m\u001b[0m\u001b[0m\n\u001b[0;32m--> 254\u001b[0;31m             \u001b[0mepoch_loss\u001b[0m\u001b[0;34m.\u001b[0m\u001b[0mappend\u001b[0m\u001b[0;34m(\u001b[0m\u001b[0mloss\u001b[0m\u001b[0;34m.\u001b[0m\u001b[0mdata\u001b[0m\u001b[0;34m.\u001b[0m\u001b[0mitem\u001b[0m\u001b[0;34m(\u001b[0m\u001b[0;34m)\u001b[0m\u001b[0;34m)\u001b[0m\u001b[0;34m\u001b[0m\u001b[0;34m\u001b[0m\u001b[0m\n\u001b[0m\u001b[1;32m    255\u001b[0m             \u001b[0myhat_detacted\u001b[0m \u001b[0;34m=\u001b[0m \u001b[0my_hat\u001b[0m\u001b[0;34m.\u001b[0m\u001b[0mdetach\u001b[0m\u001b[0;34m(\u001b[0m\u001b[0;34m)\u001b[0m\u001b[0;34m\u001b[0m\u001b[0;34m\u001b[0m\u001b[0m\n\u001b[1;32m    256\u001b[0m             \u001b[0;31m#print(type(yhat_detacted))\u001b[0m\u001b[0;34m\u001b[0m\u001b[0;34m\u001b[0m\u001b[0;34m\u001b[0m\u001b[0m\n",
      "\u001b[0;31mKeyboardInterrupt\u001b[0m: "
     ]
    }
   ],
   "source": [
    "model = EEGResNetV2(in_channels=1,classes=4,block_sizes=[40,32,18,18],deepths=[1,1,1,1]).to('cuda')\n",
    "\n",
    "options = {\n",
    "    'train_batch_size': 32,\n",
    "    'scheduler_patience': 80,\n",
    "    'weight_decay': 0.15,\n",
    "    'val_batch_size': 1,\n",
    "    'learning_rate': 1e-4,\n",
    "    'epoch_num': 350,\n",
    "    #'transform': 'shift_posistive',\n",
    "}\n",
    "train_val_data = eeg_train_val_loader(\n",
    "    X_train_valid_dir, y_train_valid_dir)\n",
    "loss_fn = nn.CrossEntropyLoss()\n",
    "logs,_= train(model, options, loss_fn,\n",
    "        data_dir=X_train_valid_dir,\n",
    "        label_dir=y_train_valid_dir,\n",
    "        preload_gpu=True)"
   ]
  }
 ]
}