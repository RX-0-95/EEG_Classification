{
 "metadata": {
  "language_info": {
   "codemirror_mode": {
    "name": "ipython",
    "version": 3
   },
   "file_extension": ".py",
   "mimetype": "text/x-python",
   "name": "python",
   "nbconvert_exporter": "python",
   "pygments_lexer": "ipython3",
   "version": "3.8.5-final"
  },
  "orig_nbformat": 2,
  "kernelspec": {
   "name": "python3",
   "display_name": "Python 3.8.5 64-bit ('.venv')",
   "metadata": {
    "interpreter": {
     "hash": "38efbb7de01d3aab19d9ed5849c98dfab9ed16c9875c18769b7a1b3387fe98cf"
    }
   }
  }
 },
 "nbformat": 4,
 "nbformat_minor": 2,
 "cells": [
  {
   "cell_type": "code",
   "execution_count": 1,
   "metadata": {},
   "outputs": [],
   "source": [
    "from eeg_net.eeg_resnet import * \n",
    "from eeg_net.eeg_net_base import *\n",
    "from eeg_net.eeg_rnn import * \n",
    "from eeg_net.eeg_cnn import * \n",
    "import numpy as np \n",
    "import matplotlib.pyplot as plt \n",
    "from torchsummary import summary\n",
    "%load_ext autoreload\n",
    "%autoreload 2\n",
    "%matplotlib inline\n",
    "plt.rcParams['figure.figsize'] = [12, 8]\n",
    "plt.rcParams['figure.dpi'] = 200"
   ]
  },
  {
   "cell_type": "code",
   "execution_count": 2,
   "metadata": {},
   "outputs": [
    {
     "output_type": "stream",
     "name": "stdout",
     "text": [
      "Training/Valid data shape: (2115, 22, 1000)\nTest data shape: (443, 22, 1000)\nTraining/Valid target shape: (2115,)\nTest target shape: (443,)\nPerson train/valid shape: (2115, 1)\nPerson test shape: (443, 1)\n"
     ]
    }
   ],
   "source": [
    "X_test = np.load(\"data/X_test.npy\")\n",
    "y_test = np.load(\"data/y_test.npy\")\n",
    "person_train_valid = np.load(\"data/person_train_valid.npy\")\n",
    "X_train_valid = np.load(\"data/X_train_valid.npy\")\n",
    "y_train_valid = np.load(\"data/y_train_valid.npy\")\n",
    "person_test = np.load(\"data/person_test.npy\")\n",
    "\n",
    "print ('Training/Valid data shape: {}'.format(X_train_valid.shape))\n",
    "print ('Test data shape: {}'.format(X_test.shape))\n",
    "print ('Training/Valid target shape: {}'.format(y_train_valid.shape))\n",
    "print ('Test target shape: {}'.format(y_test.shape))\n",
    "print ('Person train/valid shape: {}'.format(person_train_valid.shape))\n",
    "print ('Person test shape: {}'.format(person_test.shape))\n",
    "X_test_dir = './data/X_test.npy'\n",
    "y_test_dir = './data/y_test.npy' \n",
    "X_train_valid_dir = './data/X_train_valid.npy' \n",
    "y_train_valid_dir = './data/y_train_valid.npy'"
   ]
  },
  {
   "cell_type": "code",
   "execution_count": 39,
   "metadata": {},
   "outputs": [
    {
     "output_type": "stream",
     "name": "stdout",
     "text": [
      "----------------------------------------------------------------\n        Layer (type)               Output Shape         Param #\n================================================================\n            Conv2d-1          [-1, 25, 22, 976]             650\n          Identity-2          [-1, 25, 22, 976]               0\n            Conv2d-3           [-1, 25, 6, 976]           3,150\n       BatchNorm2d-4           [-1, 25, 6, 976]              50\n         MaxPool2d-5           [-1, 25, 6, 325]               0\n            Conv2d-6           [-1, 50, 6, 301]          31,300\n          Identity-7           [-1, 50, 6, 301]               0\n            Conv2d-8           [-1, 70, 2, 287]         157,570\n          Identity-9           [-1, 70, 2, 287]               0\n        MaxPool2d-10            [-1, 70, 2, 95]               0\n           Conv2d-11            [-1, 70, 1, 95]           9,870\n        MaxPool2d-12            [-1, 70, 1, 31]               0\n           Linear-13                    [-1, 4]           8,684\n          Softmax-14                    [-1, 4]               0\n================================================================\nTotal params: 211,274\nTrainable params: 211,274\nNon-trainable params: 0\n----------------------------------------------------------------\nInput size (MB): 0.08\nForward/backward pass size (MB): 12.96\nParams size (MB): 0.81\nEstimated Total Size (MB): 13.85\n----------------------------------------------------------------\n"
     ]
    }
   ],
   "source": []
  },
  {
   "cell_type": "code",
   "execution_count": null,
   "metadata": {},
   "outputs": [],
   "source": []
  }
 ]
}