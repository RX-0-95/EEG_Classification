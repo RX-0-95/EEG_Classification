{
 "metadata": {
  "language_info": {
   "codemirror_mode": {
    "name": "ipython",
    "version": 3
   },
   "file_extension": ".py",
   "mimetype": "text/x-python",
   "name": "python",
   "nbconvert_exporter": "python",
   "pygments_lexer": "ipython3",
   "version": "3.8.5-final"
  },
  "orig_nbformat": 2,
  "kernelspec": {
   "name": "python3",
   "display_name": "Python 3.8.5 64-bit ('.venv')",
   "metadata": {
    "interpreter": {
     "hash": "38efbb7de01d3aab19d9ed5849c98dfab9ed16c9875c18769b7a1b3387fe98cf"
    }
   }
  }
 },
 "nbformat": 4,
 "nbformat_minor": 2,
 "cells": [
  {
   "cell_type": "code",
   "execution_count": 27,
   "metadata": {},
   "outputs": [
    {
     "output_type": "execute_result",
     "data": {
      "text/plain": [
       "\"\\nfor dirname, _, filenames in os.walk('/kaggle/input'):\\n    for filename in filenames:\\n        print(os.path.join(dirname, filename))\\n\""
      ]
     },
     "metadata": {},
     "execution_count": 27
    }
   ],
   "source": [
    "import numpy as np \n",
    "import pandas as pd \n",
    "import os\n",
    "\"\"\"\n",
    "for dirname, _, filenames in os.walk('/kaggle/input'):\n",
    "    for filename in filenames:\n",
    "        print(os.path.join(dirname, filename))\n",
    "\"\"\""
   ]
  },
  {
   "cell_type": "code",
   "execution_count": 28,
   "metadata": {},
   "outputs": [
    {
     "output_type": "execute_result",
     "data": {
      "text/plain": [
       "   # mean_0_a  mean_1_a  mean_2_a  mean_3_a  mean_4_a  mean_d_0_a  mean_d_1_a  \\\n",
       "0        4.62      30.3    -356.0      15.6      26.3       1.070       0.411   \n",
       "1       28.80      33.1      32.0      25.8      22.8       6.550       1.680   \n",
       "2        8.90      29.4    -416.0      16.7      23.7      79.900       3.360   \n",
       "3       14.90      31.6    -143.0      19.8      24.3      -0.584      -0.284   \n",
       "4       28.30      31.3      45.2      27.3      24.5      34.800      -5.790   \n",
       "\n",
       "   mean_d_2_a  mean_d_3_a  mean_d_4_a  ...  fft_741_b  fft_742_b  fft_743_b  \\\n",
       "0      -15.70        2.06        3.15  ...       23.5       20.3       20.3   \n",
       "1        2.88        3.83       -4.82  ...      -23.3      -21.8      -21.8   \n",
       "2       90.20       89.90        2.03  ...      462.0     -233.0     -233.0   \n",
       "3        8.82        2.30       -1.97  ...      299.0     -243.0     -243.0   \n",
       "4        3.06       41.40        5.52  ...       12.0       38.1       38.1   \n",
       "\n",
       "   fft_744_b  fft_745_b  fft_746_b  fft_747_b  fft_748_b  fft_749_b     label  \n",
       "0       23.5     -215.0     280.00    -162.00    -162.00     280.00  NEGATIVE  \n",
       "1      -23.3      182.0       2.57     -31.60     -31.60       2.57   NEUTRAL  \n",
       "2      462.0     -267.0     281.00    -148.00    -148.00     281.00  POSITIVE  \n",
       "3      299.0      132.0     -12.40       9.53       9.53     -12.40  POSITIVE  \n",
       "4       12.0      119.0     -17.60      23.90      23.90     -17.60   NEUTRAL  \n",
       "\n",
       "[5 rows x 2549 columns]"
      ],
      "text/html": "<div>\n<style scoped>\n    .dataframe tbody tr th:only-of-type {\n        vertical-align: middle;\n    }\n\n    .dataframe tbody tr th {\n        vertical-align: top;\n    }\n\n    .dataframe thead th {\n        text-align: right;\n    }\n</style>\n<table border=\"1\" class=\"dataframe\">\n  <thead>\n    <tr style=\"text-align: right;\">\n      <th></th>\n      <th># mean_0_a</th>\n      <th>mean_1_a</th>\n      <th>mean_2_a</th>\n      <th>mean_3_a</th>\n      <th>mean_4_a</th>\n      <th>mean_d_0_a</th>\n      <th>mean_d_1_a</th>\n      <th>mean_d_2_a</th>\n      <th>mean_d_3_a</th>\n      <th>mean_d_4_a</th>\n      <th>...</th>\n      <th>fft_741_b</th>\n      <th>fft_742_b</th>\n      <th>fft_743_b</th>\n      <th>fft_744_b</th>\n      <th>fft_745_b</th>\n      <th>fft_746_b</th>\n      <th>fft_747_b</th>\n      <th>fft_748_b</th>\n      <th>fft_749_b</th>\n      <th>label</th>\n    </tr>\n  </thead>\n  <tbody>\n    <tr>\n      <th>0</th>\n      <td>4.62</td>\n      <td>30.3</td>\n      <td>-356.0</td>\n      <td>15.6</td>\n      <td>26.3</td>\n      <td>1.070</td>\n      <td>0.411</td>\n      <td>-15.70</td>\n      <td>2.06</td>\n      <td>3.15</td>\n      <td>...</td>\n      <td>23.5</td>\n      <td>20.3</td>\n      <td>20.3</td>\n      <td>23.5</td>\n      <td>-215.0</td>\n      <td>280.00</td>\n      <td>-162.00</td>\n      <td>-162.00</td>\n      <td>280.00</td>\n      <td>NEGATIVE</td>\n    </tr>\n    <tr>\n      <th>1</th>\n      <td>28.80</td>\n      <td>33.1</td>\n      <td>32.0</td>\n      <td>25.8</td>\n      <td>22.8</td>\n      <td>6.550</td>\n      <td>1.680</td>\n      <td>2.88</td>\n      <td>3.83</td>\n      <td>-4.82</td>\n      <td>...</td>\n      <td>-23.3</td>\n      <td>-21.8</td>\n      <td>-21.8</td>\n      <td>-23.3</td>\n      <td>182.0</td>\n      <td>2.57</td>\n      <td>-31.60</td>\n      <td>-31.60</td>\n      <td>2.57</td>\n      <td>NEUTRAL</td>\n    </tr>\n    <tr>\n      <th>2</th>\n      <td>8.90</td>\n      <td>29.4</td>\n      <td>-416.0</td>\n      <td>16.7</td>\n      <td>23.7</td>\n      <td>79.900</td>\n      <td>3.360</td>\n      <td>90.20</td>\n      <td>89.90</td>\n      <td>2.03</td>\n      <td>...</td>\n      <td>462.0</td>\n      <td>-233.0</td>\n      <td>-233.0</td>\n      <td>462.0</td>\n      <td>-267.0</td>\n      <td>281.00</td>\n      <td>-148.00</td>\n      <td>-148.00</td>\n      <td>281.00</td>\n      <td>POSITIVE</td>\n    </tr>\n    <tr>\n      <th>3</th>\n      <td>14.90</td>\n      <td>31.6</td>\n      <td>-143.0</td>\n      <td>19.8</td>\n      <td>24.3</td>\n      <td>-0.584</td>\n      <td>-0.284</td>\n      <td>8.82</td>\n      <td>2.30</td>\n      <td>-1.97</td>\n      <td>...</td>\n      <td>299.0</td>\n      <td>-243.0</td>\n      <td>-243.0</td>\n      <td>299.0</td>\n      <td>132.0</td>\n      <td>-12.40</td>\n      <td>9.53</td>\n      <td>9.53</td>\n      <td>-12.40</td>\n      <td>POSITIVE</td>\n    </tr>\n    <tr>\n      <th>4</th>\n      <td>28.30</td>\n      <td>31.3</td>\n      <td>45.2</td>\n      <td>27.3</td>\n      <td>24.5</td>\n      <td>34.800</td>\n      <td>-5.790</td>\n      <td>3.06</td>\n      <td>41.40</td>\n      <td>5.52</td>\n      <td>...</td>\n      <td>12.0</td>\n      <td>38.1</td>\n      <td>38.1</td>\n      <td>12.0</td>\n      <td>119.0</td>\n      <td>-17.60</td>\n      <td>23.90</td>\n      <td>23.90</td>\n      <td>-17.60</td>\n      <td>NEUTRAL</td>\n    </tr>\n  </tbody>\n</table>\n<p>5 rows × 2549 columns</p>\n</div>"
     },
     "metadata": {},
     "execution_count": 28
    }
   ],
   "source": [
    "df=pd.read_csv('../data/emotions.csv')\n",
    "df.head()"
   ]
  },
  {
   "cell_type": "code",
   "execution_count": 29,
   "metadata": {},
   "outputs": [
    {
     "output_type": "stream",
     "name": "stdout",
     "text": [
      "(2132, 2549)\n<class 'pandas.core.frame.DataFrame'>\nRangeIndex: 2132 entries, 0 to 2131\nColumns: 2549 entries, # mean_0_a to label\ndtypes: float64(2548), object(1)\nmemory usage: 41.5+ MB\n"
     ]
    }
   ],
   "source": [
    "print(df.shape)\n",
    "df.info()"
   ]
  },
  {
   "cell_type": "code",
   "execution_count": 30,
   "metadata": {},
   "outputs": [
    {
     "output_type": "execute_result",
     "data": {
      "text/plain": [
       "<AxesSubplot:xlabel='label', ylabel='count'>"
      ]
     },
     "metadata": {},
     "execution_count": 30
    },
    {
     "output_type": "display_data",
     "data": {
      "text/plain": "<Figure size 432x288 with 1 Axes>",
      "image/svg+xml": "<?xml version=\"1.0\" encoding=\"utf-8\" standalone=\"no\"?>\n<!DOCTYPE svg PUBLIC \"-//W3C//DTD SVG 1.1//EN\"\n  \"http://www.w3.org/Graphics/SVG/1.1/DTD/svg11.dtd\">\n<!-- Created with matplotlib (https://matplotlib.org/) -->\n<svg height=\"262.19625pt\" version=\"1.1\" viewBox=\"0 0 388.965625 262.19625\" width=\"388.965625pt\" xmlns=\"http://www.w3.org/2000/svg\" xmlns:xlink=\"http://www.w3.org/1999/xlink\">\n <metadata>\n  <rdf:RDF xmlns:cc=\"http://creativecommons.org/ns#\" xmlns:dc=\"http://purl.org/dc/elements/1.1/\" xmlns:rdf=\"http://www.w3.org/1999/02/22-rdf-syntax-ns#\">\n   <cc:Work>\n    <dc:type rdf:resource=\"http://purl.org/dc/dcmitype/StillImage\"/>\n    <dc:date>2021-03-09T17:08:58.620353</dc:date>\n    <dc:format>image/svg+xml</dc:format>\n    <dc:creator>\n     <cc:Agent>\n      <dc:title>Matplotlib v3.3.4, https://matplotlib.org/</dc:title>\n     </cc:Agent>\n    </dc:creator>\n   </cc:Work>\n  </rdf:RDF>\n </metadata>\n <defs>\n  <style type=\"text/css\">*{stroke-linecap:butt;stroke-linejoin:round;}</style>\n </defs>\n <g id=\"figure_1\">\n  <g id=\"patch_1\">\n   <path d=\"M -0 262.19625 \nL 388.965625 262.19625 \nL 388.965625 0 \nL -0 0 \nz\n\" style=\"fill:none;\"/>\n  </g>\n  <g id=\"axes_1\">\n   <g id=\"patch_2\">\n    <path d=\"M 46.965625 224.64 \nL 381.765625 224.64 \nL 381.765625 7.2 \nL 46.965625 7.2 \nz\n\" style=\"fill:#ffffff;\"/>\n   </g>\n   <g id=\"patch_3\">\n    <path clip-path=\"url(#pe48cd2575b)\" d=\"M 58.125625 224.64 \nL 147.405625 224.64 \nL 147.405625 19.868093 \nL 58.125625 19.868093 \nz\n\" style=\"fill:#3274a1;\"/>\n   </g>\n   <g id=\"patch_4\">\n    <path clip-path=\"url(#pe48cd2575b)\" d=\"M 169.725625 224.64 \nL 259.005625 224.64 \nL 259.005625 17.554286 \nL 169.725625 17.554286 \nz\n\" style=\"fill:#e1812c;\"/>\n   </g>\n   <g id=\"patch_5\">\n    <path clip-path=\"url(#pe48cd2575b)\" d=\"M 281.325625 224.64 \nL 370.605625 224.64 \nL 370.605625 19.868093 \nL 281.325625 19.868093 \nz\n\" style=\"fill:#3a923a;\"/>\n   </g>\n   <g id=\"matplotlib.axis_1\">\n    <g id=\"xtick_1\">\n     <g id=\"line2d_1\">\n      <defs>\n       <path d=\"M 0 0 \nL 0 3.5 \n\" id=\"m616c6388d1\" style=\"stroke:#000000;stroke-width:0.8;\"/>\n      </defs>\n      <g>\n       <use style=\"stroke:#000000;stroke-width:0.8;\" x=\"102.765625\" xlink:href=\"#m616c6388d1\" y=\"224.64\"/>\n      </g>\n     </g>\n     <g id=\"text_1\">\n      <!-- NEGATIVE -->\n      <g transform=\"translate(77.85 239.238438)scale(0.1 -0.1)\">\n       <defs>\n        <path d=\"M 9.8125 72.90625 \nL 23.09375 72.90625 \nL 55.421875 11.921875 \nL 55.421875 72.90625 \nL 64.984375 72.90625 \nL 64.984375 0 \nL 51.703125 0 \nL 19.390625 60.984375 \nL 19.390625 0 \nL 9.8125 0 \nz\n\" id=\"DejaVuSans-78\"/>\n        <path d=\"M 9.8125 72.90625 \nL 55.90625 72.90625 \nL 55.90625 64.59375 \nL 19.671875 64.59375 \nL 19.671875 43.015625 \nL 54.390625 43.015625 \nL 54.390625 34.71875 \nL 19.671875 34.71875 \nL 19.671875 8.296875 \nL 56.78125 8.296875 \nL 56.78125 0 \nL 9.8125 0 \nz\n\" id=\"DejaVuSans-69\"/>\n        <path d=\"M 59.515625 10.40625 \nL 59.515625 29.984375 \nL 43.40625 29.984375 \nL 43.40625 38.09375 \nL 69.28125 38.09375 \nL 69.28125 6.78125 \nQ 63.578125 2.734375 56.6875 0.65625 \nQ 49.8125 -1.421875 42 -1.421875 \nQ 24.90625 -1.421875 15.25 8.5625 \nQ 5.609375 18.5625 5.609375 36.375 \nQ 5.609375 54.25 15.25 64.234375 \nQ 24.90625 74.21875 42 74.21875 \nQ 49.125 74.21875 55.546875 72.453125 \nQ 61.96875 70.703125 67.390625 67.28125 \nL 67.390625 56.78125 \nQ 61.921875 61.421875 55.765625 63.765625 \nQ 49.609375 66.109375 42.828125 66.109375 \nQ 29.4375 66.109375 22.71875 58.640625 \nQ 16.015625 51.171875 16.015625 36.375 \nQ 16.015625 21.625 22.71875 14.15625 \nQ 29.4375 6.6875 42.828125 6.6875 \nQ 48.046875 6.6875 52.140625 7.59375 \nQ 56.25 8.5 59.515625 10.40625 \nz\n\" id=\"DejaVuSans-71\"/>\n        <path d=\"M 34.1875 63.1875 \nL 20.796875 26.90625 \nL 47.609375 26.90625 \nz\nM 28.609375 72.90625 \nL 39.796875 72.90625 \nL 67.578125 0 \nL 57.328125 0 \nL 50.6875 18.703125 \nL 17.828125 18.703125 \nL 11.1875 0 \nL 0.78125 0 \nz\n\" id=\"DejaVuSans-65\"/>\n        <path d=\"M -0.296875 72.90625 \nL 61.375 72.90625 \nL 61.375 64.59375 \nL 35.5 64.59375 \nL 35.5 0 \nL 25.59375 0 \nL 25.59375 64.59375 \nL -0.296875 64.59375 \nz\n\" id=\"DejaVuSans-84\"/>\n        <path d=\"M 9.8125 72.90625 \nL 19.671875 72.90625 \nL 19.671875 0 \nL 9.8125 0 \nz\n\" id=\"DejaVuSans-73\"/>\n        <path d=\"M 28.609375 0 \nL 0.78125 72.90625 \nL 11.078125 72.90625 \nL 34.1875 11.53125 \nL 57.328125 72.90625 \nL 67.578125 72.90625 \nL 39.796875 0 \nz\n\" id=\"DejaVuSans-86\"/>\n       </defs>\n       <use xlink:href=\"#DejaVuSans-78\"/>\n       <use x=\"74.804688\" xlink:href=\"#DejaVuSans-69\"/>\n       <use x=\"137.988281\" xlink:href=\"#DejaVuSans-71\"/>\n       <use x=\"215.478516\" xlink:href=\"#DejaVuSans-65\"/>\n       <use x=\"276.136719\" xlink:href=\"#DejaVuSans-84\"/>\n       <use x=\"337.220703\" xlink:href=\"#DejaVuSans-73\"/>\n       <use x=\"366.712891\" xlink:href=\"#DejaVuSans-86\"/>\n       <use x=\"435.121094\" xlink:href=\"#DejaVuSans-69\"/>\n      </g>\n     </g>\n    </g>\n    <g id=\"xtick_2\">\n     <g id=\"line2d_2\">\n      <g>\n       <use style=\"stroke:#000000;stroke-width:0.8;\" x=\"214.365625\" xlink:href=\"#m616c6388d1\" y=\"224.64\"/>\n      </g>\n     </g>\n     <g id=\"text_2\">\n      <!-- NEUTRAL -->\n      <g transform=\"translate(191.271875 239.238438)scale(0.1 -0.1)\">\n       <defs>\n        <path d=\"M 8.6875 72.90625 \nL 18.609375 72.90625 \nL 18.609375 28.609375 \nQ 18.609375 16.890625 22.84375 11.734375 \nQ 27.09375 6.59375 36.625 6.59375 \nQ 46.09375 6.59375 50.34375 11.734375 \nQ 54.59375 16.890625 54.59375 28.609375 \nL 54.59375 72.90625 \nL 64.5 72.90625 \nL 64.5 27.390625 \nQ 64.5 13.140625 57.4375 5.859375 \nQ 50.390625 -1.421875 36.625 -1.421875 \nQ 22.796875 -1.421875 15.734375 5.859375 \nQ 8.6875 13.140625 8.6875 27.390625 \nz\n\" id=\"DejaVuSans-85\"/>\n        <path d=\"M 44.390625 34.1875 \nQ 47.5625 33.109375 50.5625 29.59375 \nQ 53.5625 26.078125 56.59375 19.921875 \nL 66.609375 0 \nL 56 0 \nL 46.6875 18.703125 \nQ 43.0625 26.03125 39.671875 28.421875 \nQ 36.28125 30.8125 30.421875 30.8125 \nL 19.671875 30.8125 \nL 19.671875 0 \nL 9.8125 0 \nL 9.8125 72.90625 \nL 32.078125 72.90625 \nQ 44.578125 72.90625 50.734375 67.671875 \nQ 56.890625 62.453125 56.890625 51.90625 \nQ 56.890625 45.015625 53.6875 40.46875 \nQ 50.484375 35.9375 44.390625 34.1875 \nz\nM 19.671875 64.796875 \nL 19.671875 38.921875 \nL 32.078125 38.921875 \nQ 39.203125 38.921875 42.84375 42.21875 \nQ 46.484375 45.515625 46.484375 51.90625 \nQ 46.484375 58.296875 42.84375 61.546875 \nQ 39.203125 64.796875 32.078125 64.796875 \nz\n\" id=\"DejaVuSans-82\"/>\n        <path d=\"M 9.8125 72.90625 \nL 19.671875 72.90625 \nL 19.671875 8.296875 \nL 55.171875 8.296875 \nL 55.171875 0 \nL 9.8125 0 \nz\n\" id=\"DejaVuSans-76\"/>\n       </defs>\n       <use xlink:href=\"#DejaVuSans-78\"/>\n       <use x=\"74.804688\" xlink:href=\"#DejaVuSans-69\"/>\n       <use x=\"137.988281\" xlink:href=\"#DejaVuSans-85\"/>\n       <use x=\"211.181641\" xlink:href=\"#DejaVuSans-84\"/>\n       <use x=\"272.265625\" xlink:href=\"#DejaVuSans-82\"/>\n       <use x=\"337.748047\" xlink:href=\"#DejaVuSans-65\"/>\n       <use x=\"406.15625\" xlink:href=\"#DejaVuSans-76\"/>\n      </g>\n     </g>\n    </g>\n    <g id=\"xtick_3\">\n     <g id=\"line2d_3\">\n      <g>\n       <use style=\"stroke:#000000;stroke-width:0.8;\" x=\"325.965625\" xlink:href=\"#m616c6388d1\" y=\"224.64\"/>\n      </g>\n     </g>\n     <g id=\"text_3\">\n      <!-- POSITIVE -->\n      <g transform=\"translate(303.257031 239.238438)scale(0.1 -0.1)\">\n       <defs>\n        <path d=\"M 19.671875 64.796875 \nL 19.671875 37.40625 \nL 32.078125 37.40625 \nQ 38.96875 37.40625 42.71875 40.96875 \nQ 46.484375 44.53125 46.484375 51.125 \nQ 46.484375 57.671875 42.71875 61.234375 \nQ 38.96875 64.796875 32.078125 64.796875 \nz\nM 9.8125 72.90625 \nL 32.078125 72.90625 \nQ 44.34375 72.90625 50.609375 67.359375 \nQ 56.890625 61.8125 56.890625 51.125 \nQ 56.890625 40.328125 50.609375 34.8125 \nQ 44.34375 29.296875 32.078125 29.296875 \nL 19.671875 29.296875 \nL 19.671875 0 \nL 9.8125 0 \nz\n\" id=\"DejaVuSans-80\"/>\n        <path d=\"M 39.40625 66.21875 \nQ 28.65625 66.21875 22.328125 58.203125 \nQ 16.015625 50.203125 16.015625 36.375 \nQ 16.015625 22.609375 22.328125 14.59375 \nQ 28.65625 6.59375 39.40625 6.59375 \nQ 50.140625 6.59375 56.421875 14.59375 \nQ 62.703125 22.609375 62.703125 36.375 \nQ 62.703125 50.203125 56.421875 58.203125 \nQ 50.140625 66.21875 39.40625 66.21875 \nz\nM 39.40625 74.21875 \nQ 54.734375 74.21875 63.90625 63.9375 \nQ 73.09375 53.65625 73.09375 36.375 \nQ 73.09375 19.140625 63.90625 8.859375 \nQ 54.734375 -1.421875 39.40625 -1.421875 \nQ 24.03125 -1.421875 14.8125 8.828125 \nQ 5.609375 19.09375 5.609375 36.375 \nQ 5.609375 53.65625 14.8125 63.9375 \nQ 24.03125 74.21875 39.40625 74.21875 \nz\n\" id=\"DejaVuSans-79\"/>\n        <path d=\"M 53.515625 70.515625 \nL 53.515625 60.890625 \nQ 47.90625 63.578125 42.921875 64.890625 \nQ 37.9375 66.21875 33.296875 66.21875 \nQ 25.25 66.21875 20.875 63.09375 \nQ 16.5 59.96875 16.5 54.203125 \nQ 16.5 49.359375 19.40625 46.890625 \nQ 22.3125 44.4375 30.421875 42.921875 \nL 36.375 41.703125 \nQ 47.40625 39.59375 52.65625 34.296875 \nQ 57.90625 29 57.90625 20.125 \nQ 57.90625 9.515625 50.796875 4.046875 \nQ 43.703125 -1.421875 29.984375 -1.421875 \nQ 24.8125 -1.421875 18.96875 -0.25 \nQ 13.140625 0.921875 6.890625 3.21875 \nL 6.890625 13.375 \nQ 12.890625 10.015625 18.65625 8.296875 \nQ 24.421875 6.59375 29.984375 6.59375 \nQ 38.421875 6.59375 43.015625 9.90625 \nQ 47.609375 13.234375 47.609375 19.390625 \nQ 47.609375 24.75 44.3125 27.78125 \nQ 41.015625 30.8125 33.5 32.328125 \nL 27.484375 33.5 \nQ 16.453125 35.6875 11.515625 40.375 \nQ 6.59375 45.0625 6.59375 53.421875 \nQ 6.59375 63.09375 13.40625 68.65625 \nQ 20.21875 74.21875 32.171875 74.21875 \nQ 37.3125 74.21875 42.625 73.28125 \nQ 47.953125 72.359375 53.515625 70.515625 \nz\n\" id=\"DejaVuSans-83\"/>\n       </defs>\n       <use xlink:href=\"#DejaVuSans-80\"/>\n       <use x=\"60.302734\" xlink:href=\"#DejaVuSans-79\"/>\n       <use x=\"139.013672\" xlink:href=\"#DejaVuSans-83\"/>\n       <use x=\"202.490234\" xlink:href=\"#DejaVuSans-73\"/>\n       <use x=\"231.982422\" xlink:href=\"#DejaVuSans-84\"/>\n       <use x=\"293.066406\" xlink:href=\"#DejaVuSans-73\"/>\n       <use x=\"322.558594\" xlink:href=\"#DejaVuSans-86\"/>\n       <use x=\"390.966797\" xlink:href=\"#DejaVuSans-69\"/>\n      </g>\n     </g>\n    </g>\n    <g id=\"text_4\">\n     <!-- label -->\n     <g transform=\"translate(202.272656 252.916563)scale(0.1 -0.1)\">\n      <defs>\n       <path d=\"M 9.421875 75.984375 \nL 18.40625 75.984375 \nL 18.40625 0 \nL 9.421875 0 \nz\n\" id=\"DejaVuSans-108\"/>\n       <path d=\"M 34.28125 27.484375 \nQ 23.390625 27.484375 19.1875 25 \nQ 14.984375 22.515625 14.984375 16.5 \nQ 14.984375 11.71875 18.140625 8.90625 \nQ 21.296875 6.109375 26.703125 6.109375 \nQ 34.1875 6.109375 38.703125 11.40625 \nQ 43.21875 16.703125 43.21875 25.484375 \nL 43.21875 27.484375 \nz\nM 52.203125 31.203125 \nL 52.203125 0 \nL 43.21875 0 \nL 43.21875 8.296875 \nQ 40.140625 3.328125 35.546875 0.953125 \nQ 30.953125 -1.421875 24.3125 -1.421875 \nQ 15.921875 -1.421875 10.953125 3.296875 \nQ 6 8.015625 6 15.921875 \nQ 6 25.140625 12.171875 29.828125 \nQ 18.359375 34.515625 30.609375 34.515625 \nL 43.21875 34.515625 \nL 43.21875 35.40625 \nQ 43.21875 41.609375 39.140625 45 \nQ 35.0625 48.390625 27.6875 48.390625 \nQ 23 48.390625 18.546875 47.265625 \nQ 14.109375 46.140625 10.015625 43.890625 \nL 10.015625 52.203125 \nQ 14.9375 54.109375 19.578125 55.046875 \nQ 24.21875 56 28.609375 56 \nQ 40.484375 56 46.34375 49.84375 \nQ 52.203125 43.703125 52.203125 31.203125 \nz\n\" id=\"DejaVuSans-97\"/>\n       <path d=\"M 48.6875 27.296875 \nQ 48.6875 37.203125 44.609375 42.84375 \nQ 40.53125 48.484375 33.40625 48.484375 \nQ 26.265625 48.484375 22.1875 42.84375 \nQ 18.109375 37.203125 18.109375 27.296875 \nQ 18.109375 17.390625 22.1875 11.75 \nQ 26.265625 6.109375 33.40625 6.109375 \nQ 40.53125 6.109375 44.609375 11.75 \nQ 48.6875 17.390625 48.6875 27.296875 \nz\nM 18.109375 46.390625 \nQ 20.953125 51.265625 25.265625 53.625 \nQ 29.59375 56 35.59375 56 \nQ 45.5625 56 51.78125 48.09375 \nQ 58.015625 40.1875 58.015625 27.296875 \nQ 58.015625 14.40625 51.78125 6.484375 \nQ 45.5625 -1.421875 35.59375 -1.421875 \nQ 29.59375 -1.421875 25.265625 0.953125 \nQ 20.953125 3.328125 18.109375 8.203125 \nL 18.109375 0 \nL 9.078125 0 \nL 9.078125 75.984375 \nL 18.109375 75.984375 \nz\n\" id=\"DejaVuSans-98\"/>\n       <path d=\"M 56.203125 29.59375 \nL 56.203125 25.203125 \nL 14.890625 25.203125 \nQ 15.484375 15.921875 20.484375 11.0625 \nQ 25.484375 6.203125 34.421875 6.203125 \nQ 39.59375 6.203125 44.453125 7.46875 \nQ 49.3125 8.734375 54.109375 11.28125 \nL 54.109375 2.78125 \nQ 49.265625 0.734375 44.1875 -0.34375 \nQ 39.109375 -1.421875 33.890625 -1.421875 \nQ 20.796875 -1.421875 13.15625 6.1875 \nQ 5.515625 13.8125 5.515625 26.8125 \nQ 5.515625 40.234375 12.765625 48.109375 \nQ 20.015625 56 32.328125 56 \nQ 43.359375 56 49.78125 48.890625 \nQ 56.203125 41.796875 56.203125 29.59375 \nz\nM 47.21875 32.234375 \nQ 47.125 39.59375 43.09375 43.984375 \nQ 39.0625 48.390625 32.421875 48.390625 \nQ 24.90625 48.390625 20.390625 44.140625 \nQ 15.875 39.890625 15.1875 32.171875 \nz\n\" id=\"DejaVuSans-101\"/>\n      </defs>\n      <use xlink:href=\"#DejaVuSans-108\"/>\n      <use x=\"27.783203\" xlink:href=\"#DejaVuSans-97\"/>\n      <use x=\"89.0625\" xlink:href=\"#DejaVuSans-98\"/>\n      <use x=\"152.539062\" xlink:href=\"#DejaVuSans-101\"/>\n      <use x=\"214.0625\" xlink:href=\"#DejaVuSans-108\"/>\n     </g>\n    </g>\n   </g>\n   <g id=\"matplotlib.axis_2\">\n    <g id=\"ytick_1\">\n     <g id=\"line2d_4\">\n      <defs>\n       <path d=\"M 0 0 \nL -3.5 0 \n\" id=\"m8909b7e21e\" style=\"stroke:#000000;stroke-width:0.8;\"/>\n      </defs>\n      <g>\n       <use style=\"stroke:#000000;stroke-width:0.8;\" x=\"46.965625\" xlink:href=\"#m8909b7e21e\" y=\"224.64\"/>\n      </g>\n     </g>\n     <g id=\"text_5\">\n      <!-- 0 -->\n      <g transform=\"translate(33.603125 228.439219)scale(0.1 -0.1)\">\n       <defs>\n        <path d=\"M 31.78125 66.40625 \nQ 24.171875 66.40625 20.328125 58.90625 \nQ 16.5 51.421875 16.5 36.375 \nQ 16.5 21.390625 20.328125 13.890625 \nQ 24.171875 6.390625 31.78125 6.390625 \nQ 39.453125 6.390625 43.28125 13.890625 \nQ 47.125 21.390625 47.125 36.375 \nQ 47.125 51.421875 43.28125 58.90625 \nQ 39.453125 66.40625 31.78125 66.40625 \nz\nM 31.78125 74.21875 \nQ 44.046875 74.21875 50.515625 64.515625 \nQ 56.984375 54.828125 56.984375 36.375 \nQ 56.984375 17.96875 50.515625 8.265625 \nQ 44.046875 -1.421875 31.78125 -1.421875 \nQ 19.53125 -1.421875 13.0625 8.265625 \nQ 6.59375 17.96875 6.59375 36.375 \nQ 6.59375 54.828125 13.0625 64.515625 \nQ 19.53125 74.21875 31.78125 74.21875 \nz\n\" id=\"DejaVuSans-48\"/>\n       </defs>\n       <use xlink:href=\"#DejaVuSans-48\"/>\n      </g>\n     </g>\n    </g>\n    <g id=\"ytick_2\">\n     <g id=\"line2d_5\">\n      <g>\n       <use style=\"stroke:#000000;stroke-width:0.8;\" x=\"46.965625\" xlink:href=\"#m8909b7e21e\" y=\"195.717414\"/>\n      </g>\n     </g>\n     <g id=\"text_6\">\n      <!-- 100 -->\n      <g transform=\"translate(20.878125 199.516633)scale(0.1 -0.1)\">\n       <defs>\n        <path d=\"M 12.40625 8.296875 \nL 28.515625 8.296875 \nL 28.515625 63.921875 \nL 10.984375 60.40625 \nL 10.984375 69.390625 \nL 28.421875 72.90625 \nL 38.28125 72.90625 \nL 38.28125 8.296875 \nL 54.390625 8.296875 \nL 54.390625 0 \nL 12.40625 0 \nz\n\" id=\"DejaVuSans-49\"/>\n       </defs>\n       <use xlink:href=\"#DejaVuSans-49\"/>\n       <use x=\"63.623047\" xlink:href=\"#DejaVuSans-48\"/>\n       <use x=\"127.246094\" xlink:href=\"#DejaVuSans-48\"/>\n      </g>\n     </g>\n    </g>\n    <g id=\"ytick_3\">\n     <g id=\"line2d_6\">\n      <g>\n       <use style=\"stroke:#000000;stroke-width:0.8;\" x=\"46.965625\" xlink:href=\"#m8909b7e21e\" y=\"166.794828\"/>\n      </g>\n     </g>\n     <g id=\"text_7\">\n      <!-- 200 -->\n      <g transform=\"translate(20.878125 170.594047)scale(0.1 -0.1)\">\n       <defs>\n        <path d=\"M 19.1875 8.296875 \nL 53.609375 8.296875 \nL 53.609375 0 \nL 7.328125 0 \nL 7.328125 8.296875 \nQ 12.9375 14.109375 22.625 23.890625 \nQ 32.328125 33.6875 34.8125 36.53125 \nQ 39.546875 41.84375 41.421875 45.53125 \nQ 43.3125 49.21875 43.3125 52.78125 \nQ 43.3125 58.59375 39.234375 62.25 \nQ 35.15625 65.921875 28.609375 65.921875 \nQ 23.96875 65.921875 18.8125 64.3125 \nQ 13.671875 62.703125 7.8125 59.421875 \nL 7.8125 69.390625 \nQ 13.765625 71.78125 18.9375 73 \nQ 24.125 74.21875 28.421875 74.21875 \nQ 39.75 74.21875 46.484375 68.546875 \nQ 53.21875 62.890625 53.21875 53.421875 \nQ 53.21875 48.921875 51.53125 44.890625 \nQ 49.859375 40.875 45.40625 35.40625 \nQ 44.1875 33.984375 37.640625 27.21875 \nQ 31.109375 20.453125 19.1875 8.296875 \nz\n\" id=\"DejaVuSans-50\"/>\n       </defs>\n       <use xlink:href=\"#DejaVuSans-50\"/>\n       <use x=\"63.623047\" xlink:href=\"#DejaVuSans-48\"/>\n       <use x=\"127.246094\" xlink:href=\"#DejaVuSans-48\"/>\n      </g>\n     </g>\n    </g>\n    <g id=\"ytick_4\">\n     <g id=\"line2d_7\">\n      <g>\n       <use style=\"stroke:#000000;stroke-width:0.8;\" x=\"46.965625\" xlink:href=\"#m8909b7e21e\" y=\"137.872243\"/>\n      </g>\n     </g>\n     <g id=\"text_8\">\n      <!-- 300 -->\n      <g transform=\"translate(20.878125 141.671461)scale(0.1 -0.1)\">\n       <defs>\n        <path d=\"M 40.578125 39.3125 \nQ 47.65625 37.796875 51.625 33 \nQ 55.609375 28.21875 55.609375 21.1875 \nQ 55.609375 10.40625 48.1875 4.484375 \nQ 40.765625 -1.421875 27.09375 -1.421875 \nQ 22.515625 -1.421875 17.65625 -0.515625 \nQ 12.796875 0.390625 7.625 2.203125 \nL 7.625 11.71875 \nQ 11.71875 9.328125 16.59375 8.109375 \nQ 21.484375 6.890625 26.8125 6.890625 \nQ 36.078125 6.890625 40.9375 10.546875 \nQ 45.796875 14.203125 45.796875 21.1875 \nQ 45.796875 27.640625 41.28125 31.265625 \nQ 36.765625 34.90625 28.71875 34.90625 \nL 20.21875 34.90625 \nL 20.21875 43.015625 \nL 29.109375 43.015625 \nQ 36.375 43.015625 40.234375 45.921875 \nQ 44.09375 48.828125 44.09375 54.296875 \nQ 44.09375 59.90625 40.109375 62.90625 \nQ 36.140625 65.921875 28.71875 65.921875 \nQ 24.65625 65.921875 20.015625 65.03125 \nQ 15.375 64.15625 9.8125 62.3125 \nL 9.8125 71.09375 \nQ 15.4375 72.65625 20.34375 73.4375 \nQ 25.25 74.21875 29.59375 74.21875 \nQ 40.828125 74.21875 47.359375 69.109375 \nQ 53.90625 64.015625 53.90625 55.328125 \nQ 53.90625 49.265625 50.4375 45.09375 \nQ 46.96875 40.921875 40.578125 39.3125 \nz\n\" id=\"DejaVuSans-51\"/>\n       </defs>\n       <use xlink:href=\"#DejaVuSans-51\"/>\n       <use x=\"63.623047\" xlink:href=\"#DejaVuSans-48\"/>\n       <use x=\"127.246094\" xlink:href=\"#DejaVuSans-48\"/>\n      </g>\n     </g>\n    </g>\n    <g id=\"ytick_5\">\n     <g id=\"line2d_8\">\n      <g>\n       <use style=\"stroke:#000000;stroke-width:0.8;\" x=\"46.965625\" xlink:href=\"#m8909b7e21e\" y=\"108.949657\"/>\n      </g>\n     </g>\n     <g id=\"text_9\">\n      <!-- 400 -->\n      <g transform=\"translate(20.878125 112.748876)scale(0.1 -0.1)\">\n       <defs>\n        <path d=\"M 37.796875 64.3125 \nL 12.890625 25.390625 \nL 37.796875 25.390625 \nz\nM 35.203125 72.90625 \nL 47.609375 72.90625 \nL 47.609375 25.390625 \nL 58.015625 25.390625 \nL 58.015625 17.1875 \nL 47.609375 17.1875 \nL 47.609375 0 \nL 37.796875 0 \nL 37.796875 17.1875 \nL 4.890625 17.1875 \nL 4.890625 26.703125 \nz\n\" id=\"DejaVuSans-52\"/>\n       </defs>\n       <use xlink:href=\"#DejaVuSans-52\"/>\n       <use x=\"63.623047\" xlink:href=\"#DejaVuSans-48\"/>\n       <use x=\"127.246094\" xlink:href=\"#DejaVuSans-48\"/>\n      </g>\n     </g>\n    </g>\n    <g id=\"ytick_6\">\n     <g id=\"line2d_9\">\n      <g>\n       <use style=\"stroke:#000000;stroke-width:0.8;\" x=\"46.965625\" xlink:href=\"#m8909b7e21e\" y=\"80.027071\"/>\n      </g>\n     </g>\n     <g id=\"text_10\">\n      <!-- 500 -->\n      <g transform=\"translate(20.878125 83.82629)scale(0.1 -0.1)\">\n       <defs>\n        <path d=\"M 10.796875 72.90625 \nL 49.515625 72.90625 \nL 49.515625 64.59375 \nL 19.828125 64.59375 \nL 19.828125 46.734375 \nQ 21.96875 47.46875 24.109375 47.828125 \nQ 26.265625 48.1875 28.421875 48.1875 \nQ 40.625 48.1875 47.75 41.5 \nQ 54.890625 34.8125 54.890625 23.390625 \nQ 54.890625 11.625 47.5625 5.09375 \nQ 40.234375 -1.421875 26.90625 -1.421875 \nQ 22.3125 -1.421875 17.546875 -0.640625 \nQ 12.796875 0.140625 7.71875 1.703125 \nL 7.71875 11.625 \nQ 12.109375 9.234375 16.796875 8.0625 \nQ 21.484375 6.890625 26.703125 6.890625 \nQ 35.15625 6.890625 40.078125 11.328125 \nQ 45.015625 15.765625 45.015625 23.390625 \nQ 45.015625 31 40.078125 35.4375 \nQ 35.15625 39.890625 26.703125 39.890625 \nQ 22.75 39.890625 18.8125 39.015625 \nQ 14.890625 38.140625 10.796875 36.28125 \nz\n\" id=\"DejaVuSans-53\"/>\n       </defs>\n       <use xlink:href=\"#DejaVuSans-53\"/>\n       <use x=\"63.623047\" xlink:href=\"#DejaVuSans-48\"/>\n       <use x=\"127.246094\" xlink:href=\"#DejaVuSans-48\"/>\n      </g>\n     </g>\n    </g>\n    <g id=\"ytick_7\">\n     <g id=\"line2d_10\">\n      <g>\n       <use style=\"stroke:#000000;stroke-width:0.8;\" x=\"46.965625\" xlink:href=\"#m8909b7e21e\" y=\"51.104485\"/>\n      </g>\n     </g>\n     <g id=\"text_11\">\n      <!-- 600 -->\n      <g transform=\"translate(20.878125 54.903704)scale(0.1 -0.1)\">\n       <defs>\n        <path d=\"M 33.015625 40.375 \nQ 26.375 40.375 22.484375 35.828125 \nQ 18.609375 31.296875 18.609375 23.390625 \nQ 18.609375 15.53125 22.484375 10.953125 \nQ 26.375 6.390625 33.015625 6.390625 \nQ 39.65625 6.390625 43.53125 10.953125 \nQ 47.40625 15.53125 47.40625 23.390625 \nQ 47.40625 31.296875 43.53125 35.828125 \nQ 39.65625 40.375 33.015625 40.375 \nz\nM 52.59375 71.296875 \nL 52.59375 62.3125 \nQ 48.875 64.0625 45.09375 64.984375 \nQ 41.3125 65.921875 37.59375 65.921875 \nQ 27.828125 65.921875 22.671875 59.328125 \nQ 17.53125 52.734375 16.796875 39.40625 \nQ 19.671875 43.65625 24.015625 45.921875 \nQ 28.375 48.1875 33.59375 48.1875 \nQ 44.578125 48.1875 50.953125 41.515625 \nQ 57.328125 34.859375 57.328125 23.390625 \nQ 57.328125 12.15625 50.6875 5.359375 \nQ 44.046875 -1.421875 33.015625 -1.421875 \nQ 20.359375 -1.421875 13.671875 8.265625 \nQ 6.984375 17.96875 6.984375 36.375 \nQ 6.984375 53.65625 15.1875 63.9375 \nQ 23.390625 74.21875 37.203125 74.21875 \nQ 40.921875 74.21875 44.703125 73.484375 \nQ 48.484375 72.75 52.59375 71.296875 \nz\n\" id=\"DejaVuSans-54\"/>\n       </defs>\n       <use xlink:href=\"#DejaVuSans-54\"/>\n       <use x=\"63.623047\" xlink:href=\"#DejaVuSans-48\"/>\n       <use x=\"127.246094\" xlink:href=\"#DejaVuSans-48\"/>\n      </g>\n     </g>\n    </g>\n    <g id=\"ytick_8\">\n     <g id=\"line2d_11\">\n      <g>\n       <use style=\"stroke:#000000;stroke-width:0.8;\" x=\"46.965625\" xlink:href=\"#m8909b7e21e\" y=\"22.181899\"/>\n      </g>\n     </g>\n     <g id=\"text_12\">\n      <!-- 700 -->\n      <g transform=\"translate(20.878125 25.981118)scale(0.1 -0.1)\">\n       <defs>\n        <path d=\"M 8.203125 72.90625 \nL 55.078125 72.90625 \nL 55.078125 68.703125 \nL 28.609375 0 \nL 18.3125 0 \nL 43.21875 64.59375 \nL 8.203125 64.59375 \nz\n\" id=\"DejaVuSans-55\"/>\n       </defs>\n       <use xlink:href=\"#DejaVuSans-55\"/>\n       <use x=\"63.623047\" xlink:href=\"#DejaVuSans-48\"/>\n       <use x=\"127.246094\" xlink:href=\"#DejaVuSans-48\"/>\n      </g>\n     </g>\n    </g>\n    <g id=\"text_13\">\n     <!-- count -->\n     <g transform=\"translate(14.798438 130.02625)rotate(-90)scale(0.1 -0.1)\">\n      <defs>\n       <path d=\"M 48.78125 52.59375 \nL 48.78125 44.1875 \nQ 44.96875 46.296875 41.140625 47.34375 \nQ 37.3125 48.390625 33.40625 48.390625 \nQ 24.65625 48.390625 19.8125 42.84375 \nQ 14.984375 37.3125 14.984375 27.296875 \nQ 14.984375 17.28125 19.8125 11.734375 \nQ 24.65625 6.203125 33.40625 6.203125 \nQ 37.3125 6.203125 41.140625 7.25 \nQ 44.96875 8.296875 48.78125 10.40625 \nL 48.78125 2.09375 \nQ 45.015625 0.34375 40.984375 -0.53125 \nQ 36.96875 -1.421875 32.421875 -1.421875 \nQ 20.0625 -1.421875 12.78125 6.34375 \nQ 5.515625 14.109375 5.515625 27.296875 \nQ 5.515625 40.671875 12.859375 48.328125 \nQ 20.21875 56 33.015625 56 \nQ 37.15625 56 41.109375 55.140625 \nQ 45.0625 54.296875 48.78125 52.59375 \nz\n\" id=\"DejaVuSans-99\"/>\n       <path d=\"M 30.609375 48.390625 \nQ 23.390625 48.390625 19.1875 42.75 \nQ 14.984375 37.109375 14.984375 27.296875 \nQ 14.984375 17.484375 19.15625 11.84375 \nQ 23.34375 6.203125 30.609375 6.203125 \nQ 37.796875 6.203125 41.984375 11.859375 \nQ 46.1875 17.53125 46.1875 27.296875 \nQ 46.1875 37.015625 41.984375 42.703125 \nQ 37.796875 48.390625 30.609375 48.390625 \nz\nM 30.609375 56 \nQ 42.328125 56 49.015625 48.375 \nQ 55.71875 40.765625 55.71875 27.296875 \nQ 55.71875 13.875 49.015625 6.21875 \nQ 42.328125 -1.421875 30.609375 -1.421875 \nQ 18.84375 -1.421875 12.171875 6.21875 \nQ 5.515625 13.875 5.515625 27.296875 \nQ 5.515625 40.765625 12.171875 48.375 \nQ 18.84375 56 30.609375 56 \nz\n\" id=\"DejaVuSans-111\"/>\n       <path d=\"M 8.5 21.578125 \nL 8.5 54.6875 \nL 17.484375 54.6875 \nL 17.484375 21.921875 \nQ 17.484375 14.15625 20.5 10.265625 \nQ 23.53125 6.390625 29.59375 6.390625 \nQ 36.859375 6.390625 41.078125 11.03125 \nQ 45.3125 15.671875 45.3125 23.6875 \nL 45.3125 54.6875 \nL 54.296875 54.6875 \nL 54.296875 0 \nL 45.3125 0 \nL 45.3125 8.40625 \nQ 42.046875 3.421875 37.71875 1 \nQ 33.40625 -1.421875 27.6875 -1.421875 \nQ 18.265625 -1.421875 13.375 4.4375 \nQ 8.5 10.296875 8.5 21.578125 \nz\nM 31.109375 56 \nz\n\" id=\"DejaVuSans-117\"/>\n       <path d=\"M 54.890625 33.015625 \nL 54.890625 0 \nL 45.90625 0 \nL 45.90625 32.71875 \nQ 45.90625 40.484375 42.875 44.328125 \nQ 39.84375 48.1875 33.796875 48.1875 \nQ 26.515625 48.1875 22.3125 43.546875 \nQ 18.109375 38.921875 18.109375 30.90625 \nL 18.109375 0 \nL 9.078125 0 \nL 9.078125 54.6875 \nL 18.109375 54.6875 \nL 18.109375 46.1875 \nQ 21.34375 51.125 25.703125 53.5625 \nQ 30.078125 56 35.796875 56 \nQ 45.21875 56 50.046875 50.171875 \nQ 54.890625 44.34375 54.890625 33.015625 \nz\n\" id=\"DejaVuSans-110\"/>\n       <path d=\"M 18.3125 70.21875 \nL 18.3125 54.6875 \nL 36.8125 54.6875 \nL 36.8125 47.703125 \nL 18.3125 47.703125 \nL 18.3125 18.015625 \nQ 18.3125 11.328125 20.140625 9.421875 \nQ 21.96875 7.515625 27.59375 7.515625 \nL 36.8125 7.515625 \nL 36.8125 0 \nL 27.59375 0 \nQ 17.1875 0 13.234375 3.875 \nQ 9.28125 7.765625 9.28125 18.015625 \nL 9.28125 47.703125 \nL 2.6875 47.703125 \nL 2.6875 54.6875 \nL 9.28125 54.6875 \nL 9.28125 70.21875 \nz\n\" id=\"DejaVuSans-116\"/>\n      </defs>\n      <use xlink:href=\"#DejaVuSans-99\"/>\n      <use x=\"54.980469\" xlink:href=\"#DejaVuSans-111\"/>\n      <use x=\"116.162109\" xlink:href=\"#DejaVuSans-117\"/>\n      <use x=\"179.541016\" xlink:href=\"#DejaVuSans-110\"/>\n      <use x=\"242.919922\" xlink:href=\"#DejaVuSans-116\"/>\n     </g>\n    </g>\n   </g>\n   <g id=\"patch_6\">\n    <path d=\"M 46.965625 224.64 \nL 46.965625 7.2 \n\" style=\"fill:none;stroke:#000000;stroke-linecap:square;stroke-linejoin:miter;stroke-width:0.8;\"/>\n   </g>\n   <g id=\"patch_7\">\n    <path d=\"M 381.765625 224.64 \nL 381.765625 7.2 \n\" style=\"fill:none;stroke:#000000;stroke-linecap:square;stroke-linejoin:miter;stroke-width:0.8;\"/>\n   </g>\n   <g id=\"patch_8\">\n    <path d=\"M 46.965625 224.64 \nL 381.765625 224.64 \n\" style=\"fill:none;stroke:#000000;stroke-linecap:square;stroke-linejoin:miter;stroke-width:0.8;\"/>\n   </g>\n   <g id=\"patch_9\">\n    <path d=\"M 46.965625 7.2 \nL 381.765625 7.2 \n\" style=\"fill:none;stroke:#000000;stroke-linecap:square;stroke-linejoin:miter;stroke-width:0.8;\"/>\n   </g>\n  </g>\n </g>\n <defs>\n  <clipPath id=\"pe48cd2575b\">\n   <rect height=\"217.44\" width=\"334.8\" x=\"46.965625\" y=\"7.2\"/>\n  </clipPath>\n </defs>\n</svg>\n",
      "image/png": "[encoded data removed]"
     },
     "metadata": {
      "needs_background": "light"
     }
    }
   ],
   "source": [
    "import seaborn as sns\n",
    "sns.countplot(x='label', data=df)"
   ]
  },
  {
   "cell_type": "code",
   "execution_count": 31,
   "metadata": {},
   "outputs": [
    {
     "output_type": "execute_result",
     "data": {
      "text/plain": [
       "# mean_0_a    0\n",
       "mean_1_a      0\n",
       "mean_2_a      0\n",
       "mean_3_a      0\n",
       "mean_4_a      0\n",
       "             ..\n",
       "fft_746_b     0\n",
       "fft_747_b     0\n",
       "fft_748_b     0\n",
       "fft_749_b     0\n",
       "label         0\n",
       "Length: 2549, dtype: int64"
      ]
     },
     "metadata": {},
     "execution_count": 31
    }
   ],
   "source": [
    "df.isnull().sum()"
   ]
  },
  {
   "cell_type": "code",
   "execution_count": 32,
   "metadata": {},
   "outputs": [
    {
     "output_type": "stream",
     "name": "stdout",
     "text": [
      "   # mean_0_a  mean_1_a  mean_2_a  mean_3_a  mean_4_a  mean_d_0_a  mean_d_1_a  \\\n0        4.62      30.3    -356.0      15.6      26.3       1.070       0.411   \n1       28.80      33.1      32.0      25.8      22.8       6.550       1.680   \n2        8.90      29.4    -416.0      16.7      23.7      79.900       3.360   \n3       14.90      31.6    -143.0      19.8      24.3      -0.584      -0.284   \n4       28.30      31.3      45.2      27.3      24.5      34.800      -5.790   \n\n   mean_d_2_a  mean_d_3_a  mean_d_4_a  ...  fft_741_b  fft_742_b  fft_743_b  \\\n0      -15.70        2.06        3.15  ...       23.5       20.3       20.3   \n1        2.88        3.83       -4.82  ...      -23.3      -21.8      -21.8   \n2       90.20       89.90        2.03  ...      462.0     -233.0     -233.0   \n3        8.82        2.30       -1.97  ...      299.0     -243.0     -243.0   \n4        3.06       41.40        5.52  ...       12.0       38.1       38.1   \n\n   fft_744_b  fft_745_b  fft_746_b  fft_747_b  fft_748_b  fft_749_b  label  \n0       23.5     -215.0     280.00    -162.00    -162.00     280.00      2  \n1      -23.3      182.0       2.57     -31.60     -31.60       2.57      0  \n2      462.0     -267.0     281.00    -148.00    -148.00     281.00      1  \n3      299.0      132.0     -12.40       9.53       9.53     -12.40      1  \n4       12.0      119.0     -17.60      23.90      23.90     -17.60      0  \n\n[5 rows x 2549 columns]\n0    716\n2    708\n1    708\nName: label, dtype: int64\n"
     ]
    }
   ],
   "source": [
    "encode = ({'NEUTRAL': 0, 'POSITIVE': 1, 'NEGATIVE': 2} )\n",
    "#new dataset with replaced values\n",
    "df_encoded = df.replace(encode)\n",
    "\n",
    "print(df_encoded.head())\n",
    "print(df_encoded['label'].value_counts())"
   ]
  },
  {
   "cell_type": "code",
   "execution_count": 33,
   "metadata": {},
   "outputs": [
    {
     "output_type": "execute_result",
     "data": {
      "text/plain": [
       "array([2, 0, 1])"
      ]
     },
     "metadata": {},
     "execution_count": 33
    }
   ],
   "source": [
    "df_encoded['label'].unique()"
   ]
  },
  {
   "cell_type": "code",
   "execution_count": 34,
   "metadata": {},
   "outputs": [
    {
     "output_type": "execute_result",
     "data": {
      "text/plain": [
       "   # mean_0_a  mean_1_a  mean_2_a  mean_3_a  mean_4_a  mean_d_0_a  mean_d_1_a  \\\n",
       "0        4.62      30.3    -356.0      15.6      26.3       1.070       0.411   \n",
       "1       28.80      33.1      32.0      25.8      22.8       6.550       1.680   \n",
       "2        8.90      29.4    -416.0      16.7      23.7      79.900       3.360   \n",
       "3       14.90      31.6    -143.0      19.8      24.3      -0.584      -0.284   \n",
       "4       28.30      31.3      45.2      27.3      24.5      34.800      -5.790   \n",
       "\n",
       "   mean_d_2_a  mean_d_3_a  mean_d_4_a  ...  fft_741_b  fft_742_b  fft_743_b  \\\n",
       "0      -15.70        2.06        3.15  ...       23.5       20.3       20.3   \n",
       "1        2.88        3.83       -4.82  ...      -23.3      -21.8      -21.8   \n",
       "2       90.20       89.90        2.03  ...      462.0     -233.0     -233.0   \n",
       "3        8.82        2.30       -1.97  ...      299.0     -243.0     -243.0   \n",
       "4        3.06       41.40        5.52  ...       12.0       38.1       38.1   \n",
       "\n",
       "   fft_744_b  fft_745_b  fft_746_b  fft_747_b  fft_748_b  fft_749_b  label  \n",
       "0       23.5     -215.0     280.00    -162.00    -162.00     280.00      2  \n",
       "1      -23.3      182.0       2.57     -31.60     -31.60       2.57      0  \n",
       "2      462.0     -267.0     281.00    -148.00    -148.00     281.00      1  \n",
       "3      299.0      132.0     -12.40       9.53       9.53     -12.40      1  \n",
       "4       12.0      119.0     -17.60      23.90      23.90     -17.60      0  \n",
       "\n",
       "[5 rows x 2549 columns]"
      ],
      "text/html": "<div>\n<style scoped>\n    .dataframe tbody tr th:only-of-type {\n        vertical-align: middle;\n    }\n\n    .dataframe tbody tr th {\n        vertical-align: top;\n    }\n\n    .dataframe thead th {\n        text-align: right;\n    }\n</style>\n<table border=\"1\" class=\"dataframe\">\n  <thead>\n    <tr style=\"text-align: right;\">\n      <th></th>\n      <th># mean_0_a</th>\n      <th>mean_1_a</th>\n      <th>mean_2_a</th>\n      <th>mean_3_a</th>\n      <th>mean_4_a</th>\n      <th>mean_d_0_a</th>\n      <th>mean_d_1_a</th>\n      <th>mean_d_2_a</th>\n      <th>mean_d_3_a</th>\n      <th>mean_d_4_a</th>\n      <th>...</th>\n      <th>fft_741_b</th>\n      <th>fft_742_b</th>\n      <th>fft_743_b</th>\n      <th>fft_744_b</th>\n      <th>fft_745_b</th>\n      <th>fft_746_b</th>\n      <th>fft_747_b</th>\n      <th>fft_748_b</th>\n      <th>fft_749_b</th>\n      <th>label</th>\n    </tr>\n  </thead>\n  <tbody>\n    <tr>\n      <th>0</th>\n      <td>4.62</td>\n      <td>30.3</td>\n      <td>-356.0</td>\n      <td>15.6</td>\n      <td>26.3</td>\n      <td>1.070</td>\n      <td>0.411</td>\n      <td>-15.70</td>\n      <td>2.06</td>\n      <td>3.15</td>\n      <td>...</td>\n      <td>23.5</td>\n      <td>20.3</td>\n      <td>20.3</td>\n      <td>23.5</td>\n      <td>-215.0</td>\n      <td>280.00</td>\n      <td>-162.00</td>\n      <td>-162.00</td>\n      <td>280.00</td>\n      <td>2</td>\n    </tr>\n    <tr>\n      <th>1</th>\n      <td>28.80</td>\n      <td>33.1</td>\n      <td>32.0</td>\n      <td>25.8</td>\n      <td>22.8</td>\n      <td>6.550</td>\n      <td>1.680</td>\n      <td>2.88</td>\n      <td>3.83</td>\n      <td>-4.82</td>\n      <td>...</td>\n      <td>-23.3</td>\n      <td>-21.8</td>\n      <td>-21.8</td>\n      <td>-23.3</td>\n      <td>182.0</td>\n      <td>2.57</td>\n      <td>-31.60</td>\n      <td>-31.60</td>\n      <td>2.57</td>\n      <td>0</td>\n    </tr>\n    <tr>\n      <th>2</th>\n      <td>8.90</td>\n      <td>29.4</td>\n      <td>-416.0</td>\n      <td>16.7</td>\n      <td>23.7</td>\n      <td>79.900</td>\n      <td>3.360</td>\n      <td>90.20</td>\n      <td>89.90</td>\n      <td>2.03</td>\n      <td>...</td>\n      <td>462.0</td>\n      <td>-233.0</td>\n      <td>-233.0</td>\n      <td>462.0</td>\n      <td>-267.0</td>\n      <td>281.00</td>\n      <td>-148.00</td>\n      <td>-148.00</td>\n      <td>281.00</td>\n      <td>1</td>\n    </tr>\n    <tr>\n      <th>3</th>\n      <td>14.90</td>\n      <td>31.6</td>\n      <td>-143.0</td>\n      <td>19.8</td>\n      <td>24.3</td>\n      <td>-0.584</td>\n      <td>-0.284</td>\n      <td>8.82</td>\n      <td>2.30</td>\n      <td>-1.97</td>\n      <td>...</td>\n      <td>299.0</td>\n      <td>-243.0</td>\n      <td>-243.0</td>\n      <td>299.0</td>\n      <td>132.0</td>\n      <td>-12.40</td>\n      <td>9.53</td>\n      <td>9.53</td>\n      <td>-12.40</td>\n      <td>1</td>\n    </tr>\n    <tr>\n      <th>4</th>\n      <td>28.30</td>\n      <td>31.3</td>\n      <td>45.2</td>\n      <td>27.3</td>\n      <td>24.5</td>\n      <td>34.800</td>\n      <td>-5.790</td>\n      <td>3.06</td>\n      <td>41.40</td>\n      <td>5.52</td>\n      <td>...</td>\n      <td>12.0</td>\n      <td>38.1</td>\n      <td>38.1</td>\n      <td>12.0</td>\n      <td>119.0</td>\n      <td>-17.60</td>\n      <td>23.90</td>\n      <td>23.90</td>\n      <td>-17.60</td>\n      <td>0</td>\n    </tr>\n  </tbody>\n</table>\n<p>5 rows × 2549 columns</p>\n</div>"
     },
     "metadata": {},
     "execution_count": 34
    }
   ],
   "source": [
    "df_encoded.head()"
   ]
  },
  {
   "cell_type": "code",
   "execution_count": 35,
   "metadata": {},
   "outputs": [
    {
     "output_type": "execute_result",
     "data": {
      "text/plain": [
       "(2132, 2548)"
      ]
     },
     "metadata": {},
     "execution_count": 35
    }
   ],
   "source": [
    "\n",
    "x=df_encoded.drop([\"label\"]  ,axis=1)\n",
    "x.shape"
   ]
  },
  {
   "cell_type": "code",
   "execution_count": 36,
   "metadata": {},
   "outputs": [
    {
     "output_type": "execute_result",
     "data": {
      "text/plain": [
       "(2132,)"
      ]
     },
     "metadata": {},
     "execution_count": 36
    }
   ],
   "source": [
    "y = df_encoded.loc[:,'label'].values\n",
    "y.shape"
   ]
  },
  {
   "source": [
    "\n",
    "from sklearn.preprocessing import StandardScaler\n",
    "scaler = StandardScaler()\n",
    "scaler.fit(x)\n",
    "x = scaler.transform(x)\n",
    "from keras.utils import to_categorical\n",
    "y = to_categorical(y)\n",
    "y.shape"
   ],
   "cell_type": "code",
   "metadata": {},
   "execution_count": 37,
   "outputs": [
    {
     "output_type": "execute_result",
     "data": {
      "text/plain": [
       "(2132, 3)"
      ]
     },
     "metadata": {},
     "execution_count": 37
    }
   ]
  },
  {
   "cell_type": "code",
   "execution_count": 38,
   "metadata": {},
   "outputs": [],
   "source": [
    "from sklearn.model_selection import train_test_split\n",
    "x_train, x_test, y_train, y_test = train_test_split(x, y, test_size = 0.2, random_state = 4)"
   ]
  },
  {
   "cell_type": "code",
   "execution_count": 39,
   "metadata": {},
   "outputs": [
    {
     "output_type": "stream",
     "name": "stdout",
     "text": [
      "(1705, 1, 2548)\n(427, 1, 2548)\n"
     ]
    }
   ],
   "source": [
    "x_train = np.reshape(x_train, (x_train.shape[0],1,x.shape[1]))\n",
    "x_test = np.reshape(x_test, (x_test.shape[0],1,x.shape[1]))\n",
    "print(x_train.shape)\n",
    "print(x_test.shape)"
   ]
  },
  {
   "cell_type": "code",
   "execution_count": 40,
   "metadata": {},
   "outputs": [
    {
     "output_type": "stream",
     "name": "stdout",
     "text": [
      "Model: \"sequential\"\n_________________________________________________________________\nLayer (type)                 Output Shape              Param #   \n=================================================================\nlstm (LSTM)                  (None, 1, 64)             668928    \n_________________________________________________________________\ndropout (Dropout)            (None, 1, 64)             0         \n_________________________________________________________________\nlstm_1 (LSTM)                (None, 32)                12416     \n_________________________________________________________________\ndropout_1 (Dropout)          (None, 32)                0         \n_________________________________________________________________\ndense (Dense)                (None, 3)                 99        \n=================================================================\nTotal params: 681,443\nTrainable params: 681,443\nNon-trainable params: 0\n_________________________________________________________________\n"
     ]
    }
   ],
   "source": [
    "\n",
    "import tensorflow as tf\n",
    "from tensorflow.keras import Sequential\n",
    "\n",
    "from tensorflow.keras.layers import Dense, Dropout\n",
    "from tensorflow.keras.layers import Embedding\n",
    "from tensorflow.keras.layers import LSTM\n",
    "tf.keras.backend.clear_session()\n",
    "\n",
    "model = Sequential()\n",
    "model.add(LSTM(64, input_shape=(1,2548),activation=\"relu\",return_sequences=True))\n",
    "model.add(Dropout(0.2))\n",
    "model.add(LSTM(32,activation=\"sigmoid\"))\n",
    "model.add(Dropout(0.2))\n",
    "#model.add(LSTM(100,return_sequences=True))\n",
    "#model.add(Dropout(0.2))\n",
    "#model.add(LSTM(50))\n",
    "#model.add(Dropout(0.2))\n",
    "model.add(Dense(3, activation='sigmoid'))\n",
    "from keras.optimizers import SGD\n",
    "model.compile(loss = 'categorical_crossentropy', optimizer = \"adam\", metrics = ['accuracy'])\n",
    "model.summary()"
   ]
  },
  {
   "cell_type": "code",
   "execution_count": 41,
   "metadata": {},
   "outputs": [
    {
     "output_type": "stream",
     "name": "stdout",
     "text": [
      "Epoch 1/100\n",
      "54/54 [==============================] - 1s 6ms/step - loss: 0.6753 - accuracy: 0.7583 - val_loss: 0.3074 - val_accuracy: 0.9087\n",
      "Epoch 2/100\n",
      "54/54 [==============================] - 0s 2ms/step - loss: 0.2889 - accuracy: 0.9170 - val_loss: 0.2588 - val_accuracy: 0.9133\n",
      "Epoch 3/100\n",
      "54/54 [==============================] - 0s 2ms/step - loss: 0.2198 - accuracy: 0.9344 - val_loss: 0.2279 - val_accuracy: 0.9227\n",
      "Epoch 4/100\n",
      "54/54 [==============================] - 0s 2ms/step - loss: 0.1808 - accuracy: 0.9441 - val_loss: 0.2227 - val_accuracy: 0.9274\n",
      "Epoch 5/100\n",
      "54/54 [==============================] - 0s 2ms/step - loss: 0.1550 - accuracy: 0.9519 - val_loss: 0.1906 - val_accuracy: 0.9297\n",
      "Epoch 6/100\n",
      "54/54 [==============================] - 0s 2ms/step - loss: 0.1532 - accuracy: 0.9534 - val_loss: 0.2000 - val_accuracy: 0.9321\n",
      "Epoch 7/100\n",
      "54/54 [==============================] - 0s 2ms/step - loss: 0.1032 - accuracy: 0.9678 - val_loss: 0.1600 - val_accuracy: 0.9415\n",
      "Epoch 8/100\n",
      "54/54 [==============================] - 0s 2ms/step - loss: 0.0795 - accuracy: 0.9813 - val_loss: 0.1349 - val_accuracy: 0.9578\n",
      "Epoch 9/100\n",
      "54/54 [==============================] - 0s 2ms/step - loss: 0.0528 - accuracy: 0.9901 - val_loss: 0.1417 - val_accuracy: 0.9649\n",
      "Epoch 10/100\n",
      "54/54 [==============================] - 0s 2ms/step - loss: 0.0519 - accuracy: 0.9910 - val_loss: 0.1230 - val_accuracy: 0.9578\n",
      "Epoch 11/100\n",
      "54/54 [==============================] - 0s 2ms/step - loss: 0.0346 - accuracy: 0.9957 - val_loss: 0.1099 - val_accuracy: 0.9649\n",
      "Epoch 12/100\n",
      "54/54 [==============================] - 0s 2ms/step - loss: 0.0268 - accuracy: 0.9990 - val_loss: 0.1300 - val_accuracy: 0.9649\n",
      "Epoch 13/100\n",
      "54/54 [==============================] - 0s 3ms/step - loss: 0.0226 - accuracy: 0.9995 - val_loss: 0.1306 - val_accuracy: 0.9672\n",
      "Epoch 14/100\n",
      "54/54 [==============================] - 0s 2ms/step - loss: 0.0174 - accuracy: 0.9989 - val_loss: 0.1088 - val_accuracy: 0.9696\n",
      "Epoch 15/100\n",
      "54/54 [==============================] - 0s 2ms/step - loss: 0.0171 - accuracy: 0.9983 - val_loss: 0.1325 - val_accuracy: 0.9649\n",
      "Epoch 16/100\n",
      "54/54 [==============================] - 0s 2ms/step - loss: 0.0185 - accuracy: 0.9976 - val_loss: 0.1989 - val_accuracy: 0.9485\n",
      "Epoch 17/100\n",
      "54/54 [==============================] - 0s 2ms/step - loss: 0.0257 - accuracy: 0.9932 - val_loss: 0.1519 - val_accuracy: 0.9625\n",
      "Epoch 18/100\n",
      "54/54 [==============================] - 0s 2ms/step - loss: 0.0214 - accuracy: 0.9947 - val_loss: 0.1199 - val_accuracy: 0.9602\n",
      "Epoch 19/100\n",
      "54/54 [==============================] - 0s 2ms/step - loss: 0.0269 - accuracy: 0.9950 - val_loss: 0.1500 - val_accuracy: 0.9578\n",
      "Epoch 20/100\n",
      "54/54 [==============================] - 0s 2ms/step - loss: 0.0199 - accuracy: 0.9956 - val_loss: 0.1929 - val_accuracy: 0.9485\n",
      "Epoch 21/100\n",
      "54/54 [==============================] - 0s 2ms/step - loss: 0.0179 - accuracy: 0.9983 - val_loss: 0.1338 - val_accuracy: 0.9602\n",
      "Epoch 22/100\n",
      "54/54 [==============================] - 0s 2ms/step - loss: 0.0111 - accuracy: 0.9998 - val_loss: 0.1758 - val_accuracy: 0.9578\n",
      "Epoch 23/100\n",
      "54/54 [==============================] - 0s 2ms/step - loss: 0.0141 - accuracy: 0.9983 - val_loss: 0.1408 - val_accuracy: 0.9578\n",
      "Epoch 24/100\n",
      "54/54 [==============================] - 0s 2ms/step - loss: 0.0109 - accuracy: 0.9987 - val_loss: 0.1281 - val_accuracy: 0.9649\n",
      "Epoch 25/100\n",
      "54/54 [==============================] - 0s 2ms/step - loss: 0.0109 - accuracy: 0.9980 - val_loss: 0.1567 - val_accuracy: 0.9578\n",
      "Epoch 26/100\n",
      "54/54 [==============================] - 0s 2ms/step - loss: 0.0088 - accuracy: 0.9982 - val_loss: 0.1691 - val_accuracy: 0.9578\n",
      "Epoch 27/100\n",
      "54/54 [==============================] - 0s 2ms/step - loss: 0.0143 - accuracy: 0.9965 - val_loss: 0.1656 - val_accuracy: 0.9532\n",
      "Epoch 28/100\n",
      "54/54 [==============================] - 0s 2ms/step - loss: 0.0129 - accuracy: 0.9988 - val_loss: 0.1842 - val_accuracy: 0.9461\n",
      "Epoch 29/100\n",
      "54/54 [==============================] - 0s 2ms/step - loss: 0.0293 - accuracy: 0.9910 - val_loss: 0.1944 - val_accuracy: 0.9602\n",
      "Epoch 30/100\n",
      "54/54 [==============================] - 0s 3ms/step - loss: 0.0108 - accuracy: 0.9972 - val_loss: 0.1705 - val_accuracy: 0.9508\n",
      "Epoch 31/100\n",
      "54/54 [==============================] - 0s 2ms/step - loss: 0.0472 - accuracy: 0.9832 - val_loss: 0.1863 - val_accuracy: 0.9578\n",
      "Epoch 32/100\n",
      "54/54 [==============================] - 0s 2ms/step - loss: 0.0160 - accuracy: 0.9952 - val_loss: 0.1414 - val_accuracy: 0.9672\n",
      "Epoch 33/100\n",
      "54/54 [==============================] - 0s 2ms/step - loss: 0.0170 - accuracy: 0.9972 - val_loss: 0.1491 - val_accuracy: 0.9696\n",
      "Epoch 34/100\n",
      "54/54 [==============================] - 0s 2ms/step - loss: 0.0137 - accuracy: 0.9975 - val_loss: 0.1199 - val_accuracy: 0.9672\n",
      "Epoch 35/100\n",
      "54/54 [==============================] - 0s 2ms/step - loss: 0.0084 - accuracy: 0.9987 - val_loss: 0.1314 - val_accuracy: 0.9649\n",
      "Epoch 36/100\n",
      "54/54 [==============================] - 0s 2ms/step - loss: 0.0107 - accuracy: 0.9972 - val_loss: 0.1032 - val_accuracy: 0.9719\n",
      "Epoch 37/100\n",
      "54/54 [==============================] - 0s 2ms/step - loss: 0.0149 - accuracy: 0.9953 - val_loss: 0.1560 - val_accuracy: 0.9649\n",
      "Epoch 38/100\n",
      "54/54 [==============================] - 0s 2ms/step - loss: 0.0098 - accuracy: 0.9977 - val_loss: 0.1400 - val_accuracy: 0.9696\n",
      "Epoch 39/100\n",
      "54/54 [==============================] - 0s 2ms/step - loss: 0.0038 - accuracy: 0.9995 - val_loss: 0.1239 - val_accuracy: 0.9742\n",
      "Epoch 40/100\n",
      "54/54 [==============================] - 0s 2ms/step - loss: 0.0097 - accuracy: 0.9985 - val_loss: 0.1263 - val_accuracy: 0.9766\n",
      "Epoch 41/100\n",
      "54/54 [==============================] - 0s 2ms/step - loss: 0.0028 - accuracy: 1.0000 - val_loss: 0.1379 - val_accuracy: 0.9742\n",
      "Epoch 42/100\n",
      "54/54 [==============================] - 0s 2ms/step - loss: 0.0028 - accuracy: 1.0000 - val_loss: 0.1308 - val_accuracy: 0.9742\n",
      "Epoch 43/100\n",
      "54/54 [==============================] - 0s 2ms/step - loss: 0.0027 - accuracy: 1.0000 - val_loss: 0.1411 - val_accuracy: 0.9742\n",
      "Epoch 44/100\n",
      "54/54 [==============================] - 0s 2ms/step - loss: 0.0032 - accuracy: 0.9997 - val_loss: 0.1456 - val_accuracy: 0.9742\n",
      "Epoch 45/100\n",
      "54/54 [==============================] - 0s 2ms/step - loss: 0.0035 - accuracy: 0.9994 - val_loss: 0.1412 - val_accuracy: 0.9766\n",
      "Epoch 46/100\n",
      "54/54 [==============================] - 0s 3ms/step - loss: 0.0051 - accuracy: 0.9986 - val_loss: 0.1451 - val_accuracy: 0.9766\n",
      "Epoch 47/100\n",
      "54/54 [==============================] - 0s 2ms/step - loss: 0.0022 - accuracy: 1.0000 - val_loss: 0.1425 - val_accuracy: 0.9766\n",
      "Epoch 48/100\n",
      "54/54 [==============================] - 0s 2ms/step - loss: 0.0029 - accuracy: 1.0000 - val_loss: 0.1536 - val_accuracy: 0.9742\n",
      "Epoch 49/100\n",
      "54/54 [==============================] - 0s 2ms/step - loss: 0.0020 - accuracy: 1.0000 - val_loss: 0.1926 - val_accuracy: 0.9672\n",
      "Epoch 50/100\n",
      "54/54 [==============================] - 0s 2ms/step - loss: 0.0032 - accuracy: 0.9998 - val_loss: 0.1937 - val_accuracy: 0.9649\n",
      "Epoch 51/100\n",
      "54/54 [==============================] - 0s 2ms/step - loss: 0.0042 - accuracy: 0.9993 - val_loss: 0.1802 - val_accuracy: 0.9649\n",
      "Epoch 52/100\n",
      "54/54 [==============================] - 0s 2ms/step - loss: 0.0068 - accuracy: 0.9981 - val_loss: 0.1835 - val_accuracy: 0.9649\n",
      "Epoch 53/100\n",
      "54/54 [==============================] - 0s 2ms/step - loss: 0.0038 - accuracy: 0.9991 - val_loss: 0.1767 - val_accuracy: 0.9672\n",
      "Epoch 54/100\n",
      "54/54 [==============================] - 0s 2ms/step - loss: 0.0077 - accuracy: 0.9960 - val_loss: 0.1743 - val_accuracy: 0.9625\n",
      "Epoch 55/100\n",
      "54/54 [==============================] - 0s 2ms/step - loss: 0.0052 - accuracy: 0.9992 - val_loss: 0.1527 - val_accuracy: 0.9742\n",
      "Epoch 56/100\n",
      "54/54 [==============================] - 0s 2ms/step - loss: 0.0032 - accuracy: 0.9992 - val_loss: 0.1698 - val_accuracy: 0.9696\n",
      "Epoch 57/100\n",
      "54/54 [==============================] - 0s 2ms/step - loss: 0.0133 - accuracy: 0.9947 - val_loss: 0.1909 - val_accuracy: 0.9649\n",
      "Epoch 58/100\n",
      "54/54 [==============================] - 0s 3ms/step - loss: 0.0191 - accuracy: 0.9944 - val_loss: 0.2080 - val_accuracy: 0.9555\n",
      "Epoch 59/100\n",
      "54/54 [==============================] - 0s 2ms/step - loss: 0.0158 - accuracy: 0.9929 - val_loss: 0.1458 - val_accuracy: 0.9672\n",
      "Epoch 60/100\n",
      "54/54 [==============================] - 0s 2ms/step - loss: 0.0160 - accuracy: 0.9942 - val_loss: 0.2824 - val_accuracy: 0.9438\n",
      "Epoch 61/100\n",
      "54/54 [==============================] - 0s 2ms/step - loss: 0.0615 - accuracy: 0.9882 - val_loss: 0.1509 - val_accuracy: 0.9742\n",
      "Epoch 62/100\n",
      "54/54 [==============================] - 0s 3ms/step - loss: 0.0066 - accuracy: 0.9974 - val_loss: 0.1592 - val_accuracy: 0.9649\n",
      "Epoch 63/100\n",
      "54/54 [==============================] - 0s 2ms/step - loss: 0.0066 - accuracy: 0.9971 - val_loss: 0.1993 - val_accuracy: 0.9649\n",
      "Epoch 64/100\n",
      "54/54 [==============================] - 0s 2ms/step - loss: 0.0086 - accuracy: 0.9975 - val_loss: 0.2141 - val_accuracy: 0.9602\n",
      "Epoch 65/100\n",
      "54/54 [==============================] - 0s 2ms/step - loss: 0.0066 - accuracy: 0.9955 - val_loss: 0.1705 - val_accuracy: 0.9696\n",
      "Epoch 66/100\n",
      "54/54 [==============================] - 0s 2ms/step - loss: 0.0065 - accuracy: 0.9985 - val_loss: 0.1601 - val_accuracy: 0.9766\n",
      "Epoch 67/100\n",
      "54/54 [==============================] - 0s 2ms/step - loss: 0.0036 - accuracy: 0.9997 - val_loss: 0.1653 - val_accuracy: 0.9719\n",
      "Epoch 68/100\n",
      "54/54 [==============================] - 0s 2ms/step - loss: 0.0025 - accuracy: 0.9989 - val_loss: 0.1702 - val_accuracy: 0.9672\n",
      "Epoch 69/100\n",
      "54/54 [==============================] - 0s 2ms/step - loss: 0.0018 - accuracy: 1.0000 - val_loss: 0.1650 - val_accuracy: 0.9672\n",
      "Epoch 70/100\n",
      "54/54 [==============================] - 0s 2ms/step - loss: 0.0026 - accuracy: 1.0000 - val_loss: 0.1338 - val_accuracy: 0.9742\n",
      "Epoch 71/100\n",
      "54/54 [==============================] - 0s 2ms/step - loss: 0.0020 - accuracy: 0.9992 - val_loss: 0.1309 - val_accuracy: 0.9696\n",
      "Epoch 72/100\n",
      "54/54 [==============================] - 0s 3ms/step - loss: 0.0013 - accuracy: 0.9997 - val_loss: 0.1300 - val_accuracy: 0.9742\n",
      "Epoch 73/100\n",
      "54/54 [==============================] - 0s 2ms/step - loss: 0.0035 - accuracy: 0.9995 - val_loss: 0.1351 - val_accuracy: 0.9742\n",
      "Epoch 74/100\n",
      "54/54 [==============================] - 0s 2ms/step - loss: 0.0023 - accuracy: 0.9997 - val_loss: 0.2010 - val_accuracy: 0.9578\n",
      "Epoch 75/100\n",
      "54/54 [==============================] - 0s 2ms/step - loss: 0.0067 - accuracy: 0.9981 - val_loss: 0.1961 - val_accuracy: 0.9602\n",
      "Epoch 76/100\n",
      "54/54 [==============================] - 0s 2ms/step - loss: 0.0045 - accuracy: 0.9974 - val_loss: 0.1338 - val_accuracy: 0.9766\n",
      "Epoch 77/100\n",
      "54/54 [==============================] - 0s 2ms/step - loss: 0.0020 - accuracy: 0.9999 - val_loss: 0.2266 - val_accuracy: 0.9578\n",
      "Epoch 78/100\n",
      "54/54 [==============================] - 0s 3ms/step - loss: 0.0035 - accuracy: 0.9997 - val_loss: 0.1808 - val_accuracy: 0.9602\n",
      "Epoch 79/100\n",
      "54/54 [==============================] - 0s 2ms/step - loss: 0.0141 - accuracy: 0.9936 - val_loss: 0.1482 - val_accuracy: 0.9719\n",
      "Epoch 80/100\n",
      "54/54 [==============================] - 0s 2ms/step - loss: 0.0170 - accuracy: 0.9948 - val_loss: 0.1908 - val_accuracy: 0.9625\n",
      "Epoch 81/100\n",
      "54/54 [==============================] - 0s 3ms/step - loss: 0.0092 - accuracy: 0.9982 - val_loss: 0.1537 - val_accuracy: 0.9719\n",
      "Epoch 82/100\n",
      "54/54 [==============================] - 0s 2ms/step - loss: 0.0020 - accuracy: 0.9997 - val_loss: 0.1711 - val_accuracy: 0.9696\n",
      "Epoch 83/100\n",
      "54/54 [==============================] - 0s 2ms/step - loss: 0.0032 - accuracy: 0.9983 - val_loss: 0.1906 - val_accuracy: 0.9719\n",
      "Epoch 84/100\n",
      "54/54 [==============================] - 0s 3ms/step - loss: 0.0032 - accuracy: 0.9993 - val_loss: 0.1888 - val_accuracy: 0.9696\n",
      "Epoch 85/100\n",
      "54/54 [==============================] - 0s 3ms/step - loss: 0.0015 - accuracy: 0.9997 - val_loss: 0.2024 - val_accuracy: 0.9672\n",
      "Epoch 86/100\n",
      "54/54 [==============================] - 0s 2ms/step - loss: 0.0019 - accuracy: 0.9996 - val_loss: 0.1426 - val_accuracy: 0.9766\n",
      "Epoch 87/100\n",
      "54/54 [==============================] - 0s 2ms/step - loss: 0.0074 - accuracy: 0.9988 - val_loss: 0.1952 - val_accuracy: 0.9649\n",
      "Epoch 88/100\n",
      "54/54 [==============================] - 0s 2ms/step - loss: 0.0054 - accuracy: 0.9986 - val_loss: 0.1527 - val_accuracy: 0.9696\n",
      "Epoch 89/100\n",
      "54/54 [==============================] - 0s 2ms/step - loss: 0.0048 - accuracy: 0.9989 - val_loss: 0.1498 - val_accuracy: 0.9789\n",
      "Epoch 90/100\n",
      "54/54 [==============================] - 0s 2ms/step - loss: 0.0030 - accuracy: 0.9978 - val_loss: 0.1773 - val_accuracy: 0.9719\n",
      "Epoch 91/100\n",
      "54/54 [==============================] - 0s 2ms/step - loss: 0.0049 - accuracy: 0.9996 - val_loss: 0.1625 - val_accuracy: 0.9696\n",
      "Epoch 92/100\n",
      "54/54 [==============================] - 0s 2ms/step - loss: 0.0038 - accuracy: 0.9995 - val_loss: 0.1861 - val_accuracy: 0.9719\n",
      "Epoch 93/100\n",
      "54/54 [==============================] - 0s 2ms/step - loss: 0.0017 - accuracy: 0.9998 - val_loss: 0.1805 - val_accuracy: 0.9742\n",
      "Epoch 94/100\n",
      "54/54 [==============================] - 0s 3ms/step - loss: 0.0047 - accuracy: 0.9969 - val_loss: 0.1961 - val_accuracy: 0.9625\n",
      "Epoch 95/100\n",
      "54/54 [==============================] - 0s 2ms/step - loss: 0.0105 - accuracy: 0.9932 - val_loss: 0.1978 - val_accuracy: 0.9625\n",
      "Epoch 96/100\n",
      "54/54 [==============================] - 0s 2ms/step - loss: 0.0157 - accuracy: 0.9958 - val_loss: 0.2273 - val_accuracy: 0.9602\n",
      "Epoch 97/100\n",
      "54/54 [==============================] - 0s 2ms/step - loss: 0.0097 - accuracy: 0.9968 - val_loss: 0.1654 - val_accuracy: 0.9766\n",
      "Epoch 98/100\n",
      "54/54 [==============================] - 0s 2ms/step - loss: 0.0052 - accuracy: 0.9984 - val_loss: 0.1544 - val_accuracy: 0.9766\n",
      "Epoch 99/100\n",
      "54/54 [==============================] - 0s 2ms/step - loss: 0.0016 - accuracy: 0.9999 - val_loss: 0.1615 - val_accuracy: 0.9719\n",
      "Epoch 100/100\n",
      "54/54 [==============================] - 0s 2ms/step - loss: 0.0036 - accuracy: 0.9993 - val_loss: 0.1614 - val_accuracy: 0.9742\n",
      "14/14 [==============================] - 0s 643us/step - loss: 0.1614 - accuracy: 0.9742\n"
     ]
    }
   ],
   "source": [
    "history = model.fit(x_train, y_train, epochs = 100, validation_data= (x_test, y_test))\n",
    "score, acc = model.evaluate(x_test, y_test)"
   ]
  },
  {
   "cell_type": "code",
   "execution_count": null,
   "metadata": {},
   "outputs": [],
   "source": [
    "# mean_0_a,mean_1_a,mean_2_a,mean_3_a,mean_4_a,mean_d_0_a,mean_d_1_a,mean_d_2_a,mean_d_3_a,mean_d_4_a,mean_d_0_a2,mean_d_1_a2,mean_d_2_a2,mean_d_3_a2,mean_d_4_a2,mean_d_5_a,mean_d_6_a,mean_d_7_a,mean_d_8_a,mean_d_9_a,mean_d_10_a,mean_d_11_a,mean_d_12_a,mean_d_13_a,mean_d_14_a,mean_d_15_a,mean_d_16_a,mean_d_17_a,mean_d_18_a,mean_d_19_a,mean_d_20_a,mean_d_21_a,mean_d_22_a,mean_d_23_a,mean_d_24_a,mean_d_25_a,mean_d_26_a,mean_d_27_a,mean_d_28_a,mean_d_29_a,mean_d_30_a,mean_d_31_a,mean_d_32_a,mean_d_33_a,mean_d_34_a,mean_d_35_a,mean_d_36_a,mean_d_37_a,mean_d_38_a,mean_d_39_a,mean_d_40_a,mean_d_41_a,mean_d_42_a,mean_d_43_a,mean_d_44_a,mean_d_45_a,mean_d_46_a,mean_d_47_a,mean_d_48_a,mean_d_49_a,stddev_0_a,stddev_1_a,stddev_2_a,stddev_3_a,stddev_4_a,stddev_d_0_a,stddev_d_1_a,stddev_d_2_a,stddev_d_3_a,stddev_d_4_a,moments_0_a,moments_1_a,moments_2_a,moments_3_a,moments_4_a,moments_5_a,moments_6_a,moments_7_a,moments_8_a,moments_9_a,moments_10_a,moments_11_a,moments_12_a,moments_13_a,moments_14_a,moments_15_a,moments_16_a,moments_17_a,moments_18_a,moments_19_a,max_0_a,max_1_a,max_2_a,max_3_a,max_4_a,max_d_0_a,max_d_1_a,max_d_2_a,max_d_3_a,max_d_4_a,max_q_0_a,max_q_1_a,max_q_2_a,max_q_3_a,max_q_4_a,max_q_5_a,max_q_6_a,max_q_7_a,max_q_8_a,max_q_9_a,max_q_10_a,max_q_11_a,max_q_12_a,max_q_13_a,max_q_14_a,max_q_15_a,max_q_16_a,max_q_17_a,max_q_18_a,max_q_19_a,max_q_20_a,max_q_21_a,max_q_22_a,max_q_23_a,max_q_24_a,max_q_25_a,max_q_26_a,max_q_27_a,max_q_28_a,max_q_29_a,max_q_30_a,max_q_31_a,max_q_32_a,max_q_33_a,max_q_34_a,max_q_35_a,max_q_36_a,max_q_37_a,max_q_38_a,max_q_39_a,max_q_40_a,max_q_41_a,max_q_42_a,max_q_43_a,max_q_44_a,max_q_45_a,max_q_46_a,max_q_47_a,max_q_48_a,max_q_49_a,min_0_a,min_1_a,min_2_a,min_3_a,min_4_a,min_d_0_a,min_d_1_a,min_d_2_a,min_d_3_a,min_d_4_a,min_q_0_a,min_q_1_a,min_q_2_a,min_q_3_a,min_q_4_a,min_q_5_a,min_q_6_a,min_q_7_a,min_q_8_a,min_q_9_a,min_q_10_a,min_q_11_a,min_q_12_a,min_q_13_a,min_q_14_a,min_q_15_a,min_q_16_a,min_q_17_a,min_q_18_a,min_q_19_a,min_q_20_a,min_q_21_a,min_q_22_a,min_q_23_a,min_q_24_a,min_q_25_a,min_q_26_a,min_q_27_a,min_q_28_a,min_q_29_a,min_q_30_a,min_q_31_a,min_q_32_a,min_q_33_a,min_q_34_a,min_q_35_a,min_q_36_a,min_q_37_a,min_q_38_a,min_q_39_a,min_q_40_a,min_q_41_a,min_q_42_a,min_q_43_a,min_q_44_a,min_q_45_a,min_q_46_a,min_q_47_a,min_q_48_a,min_q_49_a,covmat_0_a,covmat_1_a,covmat_2_a,covmat_3_a,covmat_4_a,covmat_5_a,covmat_6_a,covmat_7_a,covmat_8_a,covmat_9_a,covmat_10_a,covmat_11_a,covmat_12_a,covmat_13_a,covmat_14_a,covmat_15_a,covmat_16_a,covmat_17_a,covmat_18_a,covmat_19_a,covmat_20_a,covmat_21_a,covmat_22_a,covmat_23_a,covmat_24_a,covmat_25_a,covmat_26_a,covmat_27_a,covmat_28_a,covmat_29_a,covmat_30_a,covmat_31_a,covmat_32_a,covmat_33_a,covmat_34_a,covmat_35_a,covmat_36_a,covmat_37_a,covmat_38_a,covmat_39_a,covmat_40_a,covmat_41_a,covmat_42_a,covmat_43_a,covmat_44_a,covmat_45_a,covmat_46_a,covmat_47_a,covmat_48_a,covmat_49_a,covmat_50_a,covmat_51_a,covmat_52_a,covmat_53_a,covmat_54_a,covmat_55_a,covmat_56_a,covmat_57_a,covmat_58_a,covmat_59_a,covmat_60_a,covmat_61_a,covmat_62_a,covmat_63_a,covmat_64_a,covmat_65_a,covmat_66_a,covmat_67_a,covmat_68_a,covmat_69_a,covmat_70_a,covmat_71_a,covmat_72_a,covmat_73_a,covmat_74_a,covmat_75_a,covmat_76_a,covmat_77_a,covmat_78_a,covmat_79_a,covmat_80_a,covmat_81_a,covmat_82_a,covmat_83_a,covmat_84_a,covmat_85_a,covmat_86_a,covmat_87_a,covmat_88_a,covmat_89_a,covmat_90_a,covmat_91_a,covmat_92_a,covmat_93_a,covmat_94_a,covmat_95_a,covmat_96_a,covmat_97_a,covmat_98_a,covmat_99_a,covmat_100_a,covmat_101_a,covmat_102_a,covmat_103_a,covmat_104_a,covmat_105_a,covmat_106_a,covmat_107_a,covmat_108_a,covmat_109_a,covmat_110_a,covmat_111_a,covmat_112_a,covmat_113_a,covmat_114_a,covmat_115_a,covmat_116_a,covmat_117_a,covmat_118_a,covmat_119_a,covmat_120_a,covmat_121_a,covmat_122_a,covmat_123_a,covmat_124_a,covmat_125_a,covmat_126_a,covmat_127_a,covmat_128_a,covmat_129_a,covmat_130_a,covmat_131_a,covmat_132_a,covmat_133_a,covmat_134_a,covmat_135_a,covmat_136_a,covmat_137_a,covmat_138_a,covmat_139_a,covmat_140_a,covmat_141_a,covmat_142_a,covmat_143_a,eigen_0_a,eigen_1_a,eigen_2_a,eigen_3_a,eigen_4_a,eigen_5_a,eigen_6_a,eigen_7_a,eigen_8_a,eigen_9_a,eigen_10_a,eigen_11_a,logm_0_a,logm_1_a,logm_2_a,logm_3_a,logm_4_a,logm_5_a,logm_6_a,logm_7_a,logm_8_a,logm_9_a,logm_10_a,logm_11_a,logm_12_a,logm_13_a,logm_14_a,logm_15_a,logm_16_a,logm_17_a,logm_18_a,logm_19_a,logm_20_a,logm_21_a,logm_22_a,logm_23_a,logm_24_a,logm_25_a,logm_26_a,logm_27_a,logm_28_a,logm_29_a,logm_30_a,logm_31_a,logm_32_a,logm_33_a,logm_34_a,logm_35_a,logm_36_a,logm_37_a,logm_38_a,logm_39_a,logm_40_a,logm_41_a,logm_42_a,logm_43_a,logm_44_a,logm_45_a,logm_46_a,logm_47_a,logm_48_a,logm_49_a,logm_50_a,logm_51_a,logm_52_a,logm_53_a,logm_54_a,logm_55_a,logm_56_a,logm_57_a,logm_58_a,logm_59_a,logm_60_a,logm_61_a,logm_62_a,logm_63_a,logm_64_a,logm_65_a,logm_66_a,logm_67_a,logm_68_a,logm_69_a,logm_70_a,logm_71_a,logm_72_a,logm_73_a,logm_74_a,logm_75_a,logm_76_a,logm_77_a,entropy0_a,entropy1_a,entropy2_a,entropy3_a,entropy4_a,correlate_0_a,correlate_1_a,correlate_2_a,correlate_3_a,correlate_4_a,correlate_5_a,correlate_6_a,correlate_7_a,correlate_8_a,correlate_9_a,correlate_10_a,correlate_11_a,correlate_12_a,correlate_13_a,correlate_14_a,correlate_15_a,correlate_16_a,correlate_17_a,correlate_18_a,correlate_19_a,correlate_20_a,correlate_21_a,correlate_22_a,correlate_23_a,correlate_24_a,correlate_25_a,correlate_26_a,correlate_27_a,correlate_28_a,correlate_29_a,correlate_30_a,correlate_31_a,correlate_32_a,correlate_33_a,correlate_34_a,correlate_35_a,correlate_36_a,correlate_37_a,correlate_38_a,correlate_39_a,correlate_40_a,correlate_41_a,correlate_42_a,correlate_43_a,correlate_44_a,correlate_45_a,correlate_46_a,correlate_47_a,correlate_48_a,correlate_49_a,correlate_50_a,correlate_51_a,correlate_52_a,correlate_53_a,correlate_54_a,correlate_55_a,correlate_56_a,correlate_57_a,correlate_58_a,correlate_59_a,correlate_60_a,correlate_61_a,correlate_62_a,correlate_63_a,correlate_64_a,correlate_65_a,correlate_66_a,correlate_67_a,correlate_68_a,correlate_69_a,correlate_70_a,correlate_71_a,correlate_72_a,correlate_73_a,correlate_74_a,fft_0_a,fft_1_a,fft_2_a,fft_3_a,fft_4_a,fft_5_a,fft_6_a,fft_7_a,fft_8_a,fft_9_a,fft_10_a,fft_11_a,fft_12_a,fft_13_a,fft_14_a,fft_15_a,fft_16_a,fft_17_a,fft_18_a,fft_19_a,fft_20_a,fft_21_a,fft_22_a,fft_23_a,fft_24_a,fft_25_a,fft_26_a,fft_27_a,fft_28_a,fft_29_a,fft_30_a,fft_31_a,fft_32_a,fft_33_a,fft_34_a,fft_35_a,fft_36_a,fft_37_a,fft_38_a,fft_39_a,fft_40_a,fft_41_a,fft_42_a,fft_43_a,fft_44_a,fft_45_a,fft_46_a,fft_47_a,fft_48_a,fft_49_a,fft_50_a,fft_51_a,fft_52_a,fft_53_a,fft_54_a,fft_55_a,fft_56_a,fft_57_a,fft_58_a,fft_59_a,fft_60_a,fft_61_a,fft_62_a,fft_63_a,fft_64_a,fft_65_a,fft_66_a,fft_67_a,fft_68_a,fft_69_a,fft_70_a,fft_71_a,fft_72_a,fft_73_a,fft_74_a,fft_75_a,fft_76_a,fft_77_a,fft_78_a,fft_79_a,fft_80_a,fft_81_a,fft_82_a,fft_83_a,fft_84_a,fft_85_a,fft_86_a,fft_87_a,fft_88_a,fft_89_a,fft_90_a,fft_91_a,fft_92_a,fft_93_a,fft_94_a,fft_95_a,fft_96_a,fft_97_a,fft_98_a,fft_99_a,fft_100_a,fft_101_a,fft_102_a,fft_103_a,fft_104_a,fft_105_a,fft_106_a,fft_107_a,fft_108_a,fft_109_a,fft_110_a,fft_111_a,fft_112_a,fft_113_a,fft_114_a,fft_115_a,fft_116_a,fft_117_a,fft_118_a,fft_119_a,fft_120_a,fft_121_a,fft_122_a,fft_123_a,fft_124_a,fft_125_a,fft_126_a,fft_127_a,fft_128_a,fft_129_a,fft_130_a,fft_131_a,fft_132_a,fft_133_a,fft_134_a,fft_135_a,fft_136_a,fft_137_a,fft_138_a,fft_139_a,fft_140_a,fft_141_a,fft_142_a,fft_143_a,fft_144_a,fft_145_a,fft_146_a,fft_147_a,fft_148_a,fft_149_a,fft_150_a,fft_151_a,fft_152_a,fft_153_a,fft_154_a,fft_155_a,fft_156_a,fft_157_a,fft_158_a,fft_159_a,fft_160_a,fft_161_a,fft_162_a,fft_163_a,fft_164_a,fft_165_a,fft_166_a,fft_167_a,fft_168_a,fft_169_a,fft_170_a,fft_171_a,fft_172_a,fft_173_a,fft_174_a,fft_175_a,fft_176_a,fft_177_a,fft_178_a,fft_179_a,fft_180_a,fft_181_a,fft_182_a,fft_183_a,fft_184_a,fft_185_a,fft_186_a,fft_187_a,fft_188_a,fft_189_a,fft_190_a,fft_191_a,fft_192_a,fft_193_a,fft_194_a,fft_195_a,fft_196_a,fft_197_a,fft_198_a,fft_199_a,fft_200_a,fft_201_a,fft_202_a,fft_203_a,fft_204_a,fft_205_a,fft_206_a,fft_207_a,fft_208_a,fft_209_a,fft_210_a,fft_211_a,fft_212_a,fft_213_a,fft_214_a,fft_215_a,fft_216_a,fft_217_a,fft_218_a,fft_219_a,fft_220_a,fft_221_a,fft_222_a,fft_223_a,fft_224_a,fft_225_a,fft_226_a,fft_227_a,fft_228_a,fft_229_a,fft_230_a,fft_231_a,fft_232_a,fft_233_a,fft_234_a,fft_235_a,fft_236_a,fft_237_a,fft_238_a,fft_239_a,fft_240_a,fft_241_a,fft_242_a,fft_243_a,fft_244_a,fft_245_a,fft_246_a,fft_247_a,fft_248_a,fft_249_a,fft_250_a,fft_251_a,fft_252_a,fft_253_a,fft_254_a,fft_255_a,fft_256_a,fft_257_a,fft_258_a,fft_259_a,fft_260_a,fft_261_a,fft_262_a,fft_263_a,fft_264_a,fft_265_a,fft_266_a,fft_267_a,fft_268_a,fft_269_a,fft_270_a,fft_271_a,fft_272_a,fft_273_a,fft_274_a,fft_275_a,fft_276_a,fft_277_a,fft_278_a,fft_279_a,fft_280_a,fft_281_a,fft_282_a,fft_283_a,fft_284_a,fft_285_a,fft_286_a,fft_287_a,fft_288_a,fft_289_a,fft_290_a,fft_291_a,fft_292_a,fft_293_a,fft_294_a,fft_295_a,fft_296_a,fft_297_a,fft_298_a,fft_299_a,fft_300_a,fft_301_a,fft_302_a,fft_303_a,fft_304_a,fft_305_a,fft_306_a,fft_307_a,fft_308_a,fft_309_a,fft_310_a,fft_311_a,fft_312_a,fft_313_a,fft_314_a,fft_315_a,fft_316_a,fft_317_a,fft_318_a,fft_319_a,fft_320_a,fft_321_a,fft_322_a,fft_323_a,fft_324_a,fft_325_a,fft_326_a,fft_327_a,fft_328_a,fft_329_a,fft_330_a,fft_331_a,fft_332_a,fft_333_a,fft_334_a,fft_335_a,fft_336_a,fft_337_a,fft_338_a,fft_339_a,fft_340_a,fft_341_a,fft_342_a,fft_343_a,fft_344_a,fft_345_a,fft_346_a,fft_347_a,fft_348_a,fft_349_a,fft_350_a,fft_351_a,fft_352_a,fft_353_a,fft_354_a,fft_355_a,fft_356_a,fft_357_a,fft_358_a,fft_359_a,fft_360_a,fft_361_a,fft_362_a,fft_363_a,fft_364_a,fft_365_a,fft_366_a,fft_367_a,fft_368_a,fft_369_a,fft_370_a,fft_371_a,fft_372_a,fft_373_a,fft_374_a,fft_375_a,fft_376_a,fft_377_a,fft_378_a,fft_379_a,fft_380_a,fft_381_a,fft_382_a,fft_383_a,fft_384_a,fft_385_a,fft_386_a,fft_387_a,fft_388_a,fft_389_a,fft_390_a,fft_391_a,fft_392_a,fft_393_a,fft_394_a,fft_395_a,fft_396_a,fft_397_a,fft_398_a,fft_399_a,fft_400_a,fft_401_a,fft_402_a,fft_403_a,fft_404_a,fft_405_a,fft_406_a,fft_407_a,fft_408_a,fft_409_a,fft_410_a,fft_411_a,fft_412_a,fft_413_a,fft_414_a,fft_415_a,fft_416_a,fft_417_a,fft_418_a,fft_419_a,fft_420_a,fft_421_a,fft_422_a,fft_423_a,fft_424_a,fft_425_a,fft_426_a,fft_427_a,fft_428_a,fft_429_a,fft_430_a,fft_431_a,fft_432_a,fft_433_a,fft_434_a,fft_435_a,fft_436_a,fft_437_a,fft_438_a,fft_439_a,fft_440_a,fft_441_a,fft_442_a,fft_443_a,fft_444_a,fft_445_a,fft_446_a,fft_447_a,fft_448_a,fft_449_a,fft_450_a,fft_451_a,fft_452_a,fft_453_a,fft_454_a,fft_455_a,fft_456_a,fft_457_a,fft_458_a,fft_459_a,fft_460_a,fft_461_a,fft_462_a,fft_463_a,fft_464_a,fft_465_a,fft_466_a,fft_467_a,fft_468_a,fft_469_a,fft_470_a,fft_471_a,fft_472_a,fft_473_a,fft_474_a,fft_475_a,fft_476_a,fft_477_a,fft_478_a,fft_479_a,fft_480_a,fft_481_a,fft_482_a,fft_483_a,fft_484_a,fft_485_a,fft_486_a,fft_487_a,fft_488_a,fft_489_a,fft_490_a,fft_491_a,fft_492_a,fft_493_a,fft_494_a,fft_495_a,fft_496_a,fft_497_a,fft_498_a,fft_499_a,fft_500_a,fft_501_a,fft_502_a,fft_503_a,fft_504_a,fft_505_a,fft_506_a,fft_507_a,fft_508_a,fft_509_a,fft_510_a,fft_511_a,fft_512_a,fft_513_a,fft_514_a,fft_515_a,fft_516_a,fft_517_a,fft_518_a,fft_519_a,fft_520_a,fft_521_a,fft_522_a,fft_523_a,fft_524_a,fft_525_a,fft_526_a,fft_527_a,fft_528_a,fft_529_a,fft_530_a,fft_531_a,fft_532_a,fft_533_a,fft_534_a,fft_535_a,fft_536_a,fft_537_a,fft_538_a,fft_539_a,fft_540_a,fft_541_a,fft_542_a,fft_543_a,fft_544_a,fft_545_a,fft_546_a,fft_547_a,fft_548_a,fft_549_a,fft_550_a,fft_551_a,fft_552_a,fft_553_a,fft_554_a,fft_555_a,fft_556_a,fft_557_a,fft_558_a,fft_559_a,fft_560_a,fft_561_a,fft_562_a,fft_563_a,fft_564_a,fft_565_a,fft_566_a,fft_567_a,fft_568_a,fft_569_a,fft_570_a,fft_571_a,fft_572_a,fft_573_a,fft_574_a,fft_575_a,fft_576_a,fft_577_a,fft_578_a,fft_579_a,fft_580_a,fft_581_a,fft_582_a,fft_583_a,fft_584_a,fft_585_a,fft_586_a,fft_587_a,fft_588_a,fft_589_a,fft_590_a,fft_591_a,fft_592_a,fft_593_a,fft_594_a,fft_595_a,fft_596_a,fft_597_a,fft_598_a,fft_599_a,fft_600_a,fft_601_a,fft_602_a,fft_603_a,fft_604_a,fft_605_a,fft_606_a,fft_607_a,fft_608_a,fft_609_a,fft_610_a,fft_611_a,fft_612_a,fft_613_a,fft_614_a,fft_615_a,fft_616_a,fft_617_a,fft_618_a,fft_619_a,fft_620_a,fft_621_a,fft_622_a,fft_623_a,fft_624_a,fft_625_a,fft_626_a,fft_627_a,fft_628_a,fft_629_a,fft_630_a,fft_631_a,fft_632_a,fft_633_a,fft_634_a,fft_635_a,fft_636_a,fft_637_a,fft_638_a,fft_639_a,fft_640_a,fft_641_a,fft_642_a,fft_643_a,fft_644_a,fft_645_a,fft_646_a,fft_647_a,fft_648_a,fft_649_a,fft_650_a,fft_651_a,fft_652_a,fft_653_a,fft_654_a,fft_655_a,fft_656_a,fft_657_a,fft_658_a,fft_659_a,fft_660_a,fft_661_a,fft_662_a,fft_663_a,fft_664_a,fft_665_a,fft_666_a,fft_667_a,fft_668_a,fft_669_a,fft_670_a,fft_671_a,fft_672_a,fft_673_a,fft_674_a,fft_675_a,fft_676_a,fft_677_a,fft_678_a,fft_679_a,fft_680_a,fft_681_a,fft_682_a,fft_683_a,fft_684_a,fft_685_a,fft_686_a,fft_687_a,fft_688_a,fft_689_a,fft_690_a,fft_691_a,fft_692_a,fft_693_a,fft_694_a,fft_695_a,fft_696_a,fft_697_a,fft_698_a,fft_699_a,fft_700_a,fft_701_a,fft_702_a,fft_703_a,fft_704_a,fft_705_a,fft_706_a,fft_707_a,fft_708_a,fft_709_a,fft_710_a,fft_711_a,fft_712_a,fft_713_a,fft_714_a,fft_715_a,fft_716_a,fft_717_a,fft_718_a,fft_719_a,fft_720_a,fft_721_a,fft_722_a,fft_723_a,fft_724_a,fft_725_a,fft_726_a,fft_727_a,fft_728_a,fft_729_a,fft_730_a,fft_731_a,fft_732_a,fft_733_a,fft_734_a,fft_735_a,fft_736_a,fft_737_a,fft_738_a,fft_739_a,fft_740_a,fft_741_a,fft_742_a,fft_743_a,fft_744_a,fft_745_a,fft_746_a,fft_747_a,fft_748_a,fft_749_a,mean_0_b,mean_1_b,mean_2_b,mean_3_b,mean_4_b,mean_d_0_b,mean_d_1_b,mean_d_2_b,mean_d_3_b,mean_d_4_b,mean_d_0_b2,mean_d_1_b2,mean_d_2_b2,mean_d_3_b2,mean_d_4_b2,mean_d_5_b,mean_d_6_b,mean_d_7_b,mean_d_8_b,mean_d_9_b,mean_d_10_b,mean_d_11_b,mean_d_12_b,mean_d_13_b,mean_d_14_b,mean_d_15_b,mean_d_16_b,mean_d_17_b,mean_d_18_b,mean_d_19_b,mean_d_20_b,mean_d_21_b,mean_d_22_b,mean_d_23_b,mean_d_24_b,mean_d_25_b,mean_d_26_b,mean_d_27_b,mean_d_28_b,mean_d_29_b,mean_d_30_b,mean_d_31_b,mean_d_32_b,mean_d_33_b,mean_d_34_b,mean_d_35_b,mean_d_36_b,mean_d_37_b,mean_d_38_b,mean_d_39_b,mean_d_40_b,mean_d_41_b,mean_d_42_b,mean_d_43_b,mean_d_44_b,mean_d_45_b,mean_d_46_b,mean_d_47_b,mean_d_48_b,mean_d_49_b,stddev_0_b,stddev_1_b,stddev_2_b,stddev_3_b,stddev_4_b,stddev_d_0_b,stddev_d_1_b,stddev_d_2_b,stddev_d_3_b,stddev_d_4_b,moments_0_b,moments_1_b,moments_2_b,moments_3_b,moments_4_b,moments_5_b,moments_6_b,moments_7_b,moments_8_b,moments_9_b,moments_10_b,moments_11_b,moments_12_b,moments_13_b,moments_14_b,moments_15_b,moments_16_b,moments_17_b,moments_18_b,moments_19_b,max_0_b,max_1_b,max_2_b,max_3_b,max_4_b,max_d_0_b,max_d_1_b,max_d_2_b,max_d_3_b,max_d_4_b,max_q_0_b,max_q_1_b,max_q_2_b,max_q_3_b,max_q_4_b,max_q_5_b,max_q_6_b,max_q_7_b,max_q_8_b,max_q_9_b,max_q_10_b,max_q_11_b,max_q_12_b,max_q_13_b,max_q_14_b,max_q_15_b,max_q_16_b,max_q_17_b,max_q_18_b,max_q_19_b,max_q_20_b,max_q_21_b,max_q_22_b,max_q_23_b,max_q_24_b,max_q_25_b,max_q_26_b,max_q_27_b,max_q_28_b,max_q_29_b,max_q_30_b,max_q_31_b,max_q_32_b,max_q_33_b,max_q_34_b,max_q_35_b,max_q_36_b,max_q_37_b,max_q_38_b,max_q_39_b,max_q_40_b,max_q_41_b,max_q_42_b,max_q_43_b,max_q_44_b,max_q_45_b,max_q_46_b,max_q_47_b,max_q_48_b,max_q_49_b,min_0_b,min_1_b,min_2_b,min_3_b,min_4_b,min_d_0_b,min_d_1_b,min_d_2_b,min_d_3_b,min_d_4_b,min_q_0_b,min_q_1_b,min_q_2_b,min_q_3_b,min_q_4_b,min_q_5_b,min_q_6_b,min_q_7_b,min_q_8_b,min_q_9_b,min_q_10_b,min_q_11_b,min_q_12_b,min_q_13_b,min_q_14_b,min_q_15_b,min_q_16_b,min_q_17_b,min_q_18_b,min_q_19_b,min_q_20_b,min_q_21_b,min_q_22_b,min_q_23_b,min_q_24_b,min_q_25_b,min_q_26_b,min_q_27_b,min_q_28_b,min_q_29_b,min_q_30_b,min_q_31_b,min_q_32_b,min_q_33_b,min_q_34_b,min_q_35_b,min_q_36_b,min_q_37_b,min_q_38_b,min_q_39_b,min_q_40_b,min_q_41_b,min_q_42_b,min_q_43_b,min_q_44_b,min_q_45_b,min_q_46_b,min_q_47_b,min_q_48_b,min_q_49_b,covmat_0_b,covmat_1_b,covmat_2_b,covmat_3_b,covmat_4_b,covmat_5_b,covmat_6_b,covmat_7_b,covmat_8_b,covmat_9_b,covmat_10_b,covmat_11_b,covmat_12_b,covmat_13_b,covmat_14_b,covmat_15_b,covmat_16_b,covmat_17_b,covmat_18_b,covmat_19_b,covmat_20_b,covmat_21_b,covmat_22_b,covmat_23_b,covmat_24_b,covmat_25_b,covmat_26_b,covmat_27_b,covmat_28_b,covmat_29_b,covmat_30_b,covmat_31_b,covmat_32_b,covmat_33_b,covmat_34_b,covmat_35_b,covmat_36_b,covmat_37_b,covmat_38_b,covmat_39_b,covmat_40_b,covmat_41_b,covmat_42_b,covmat_43_b,covmat_44_b,covmat_45_b,covmat_46_b,covmat_47_b,covmat_48_b,covmat_49_b,covmat_50_b,covmat_51_b,covmat_52_b,covmat_53_b,covmat_54_b,covmat_55_b,covmat_56_b,covmat_57_b,covmat_58_b,covmat_59_b,covmat_60_b,covmat_61_b,covmat_62_b,covmat_63_b,covmat_64_b,covmat_65_b,covmat_66_b,covmat_67_b,covmat_68_b,covmat_69_b,covmat_70_b,covmat_71_b,covmat_72_b,covmat_73_b,covmat_74_b,covmat_75_b,covmat_76_b,covmat_77_b,covmat_78_b,covmat_79_b,covmat_80_b,covmat_81_b,covmat_82_b,covmat_83_b,covmat_84_b,covmat_85_b,covmat_86_b,covmat_87_b,covmat_88_b,covmat_89_b,covmat_90_b,covmat_91_b,covmat_92_b,covmat_93_b,covmat_94_b,covmat_95_b,covmat_96_b,covmat_97_b,covmat_98_b,covmat_99_b,covmat_100_b,covmat_101_b,covmat_102_b,covmat_103_b,covmat_104_b,covmat_105_b,covmat_106_b,covmat_107_b,covmat_108_b,covmat_109_b,covmat_110_b,covmat_111_b,covmat_112_b,covmat_113_b,covmat_114_b,covmat_115_b,covmat_116_b,covmat_117_b,covmat_118_b,covmat_119_b,covmat_120_b,covmat_121_b,covmat_122_b,covmat_123_b,covmat_124_b,covmat_125_b,covmat_126_b,covmat_127_b,covmat_128_b,covmat_129_b,covmat_130_b,covmat_131_b,covmat_132_b,covmat_133_b,covmat_134_b,covmat_135_b,covmat_136_b,covmat_137_b,covmat_138_b,covmat_139_b,covmat_140_b,covmat_141_b,covmat_142_b,covmat_143_b,eigen_0_b,eigen_1_b,eigen_2_b,eigen_3_b,eigen_4_b,eigen_5_b,eigen_6_b,eigen_7_b,eigen_8_b,eigen_9_b,eigen_10_b,eigen_11_b,logm_0_b,logm_1_b,logm_2_b,logm_3_b,logm_4_b,logm_5_b,logm_6_b,logm_7_b,logm_8_b,logm_9_b,logm_10_b,logm_11_b,logm_12_b,logm_13_b,logm_14_b,logm_15_b,logm_16_b,logm_17_b,logm_18_b,logm_19_b,logm_20_b,logm_21_b,logm_22_b,logm_23_b,logm_24_b,logm_25_b,logm_26_b,logm_27_b,logm_28_b,logm_29_b,logm_30_b,logm_31_b,logm_32_b,logm_33_b,logm_34_b,logm_35_b,logm_36_b,logm_37_b,logm_38_b,logm_39_b,logm_40_b,logm_41_b,logm_42_b,logm_43_b,logm_44_b,logm_45_b,logm_46_b,logm_47_b,logm_48_b,logm_49_b,logm_50_b,logm_51_b,logm_52_b,logm_53_b,logm_54_b,logm_55_b,logm_56_b,logm_57_b,logm_58_b,logm_59_b,logm_60_b,logm_61_b,logm_62_b,logm_63_b,logm_64_b,logm_65_b,logm_66_b,logm_67_b,logm_68_b,logm_69_b,logm_70_b,logm_71_b,logm_72_b,logm_73_b,logm_74_b,logm_75_b,logm_76_b,logm_77_b,entropy0_b,entropy1_b,entropy2_b,entropy3_b,entropy4_b,correlate_0_b,correlate_1_b,correlate_2_b,correlate_3_b,correlate_4_b,correlate_5_b,correlate_6_b,correlate_7_b,correlate_8_b,correlate_9_b,correlate_10_b,correlate_11_b,correlate_12_b,correlate_13_b,correlate_14_b,correlate_15_b,correlate_16_b,correlate_17_b,correlate_18_b,correlate_19_b,correlate_20_b,correlate_21_b,correlate_22_b,correlate_23_b,correlate_24_b,correlate_25_b,correlate_26_b,correlate_27_b,correlate_28_b,correlate_29_b,correlate_30_b,correlate_31_b,correlate_32_b,correlate_33_b,correlate_34_b,correlate_35_b,correlate_36_b,correlate_37_b,correlate_38_b,correlate_39_b,correlate_40_b,correlate_41_b,correlate_42_b,correlate_43_b,correlate_44_b,correlate_45_b,correlate_46_b,correlate_47_b,correlate_48_b,correlate_49_b,correlate_50_b,correlate_51_b,correlate_52_b,correlate_53_b,correlate_54_b,correlate_55_b,correlate_56_b,correlate_57_b,correlate_58_b,correlate_59_b,correlate_60_b,correlate_61_b,correlate_62_b,correlate_63_b,correlate_64_b,correlate_65_b,correlate_66_b,correlate_67_b,correlate_68_b,correlate_69_b,correlate_70_b,correlate_71_b,correlate_72_b,correlate_73_b,correlate_74_b,fft_0_b,fft_1_b,fft_2_b,fft_3_b,fft_4_b,fft_5_b,fft_6_b,fft_7_b,fft_8_b,fft_9_b,fft_10_b,fft_11_b,fft_12_b,fft_13_b,fft_14_b,fft_15_b,fft_16_b,fft_17_b,fft_18_b,fft_19_b,fft_20_b,fft_21_b,fft_22_b,fft_23_b,fft_24_b,fft_25_b,fft_26_b,fft_27_b,fft_28_b,fft_29_b,fft_30_b,fft_31_b,fft_32_b,fft_33_b,fft_34_b,fft_35_b,fft_36_b,fft_37_b,fft_38_b,fft_39_b,fft_40_b,fft_41_b,fft_42_b,fft_43_b,fft_44_b,fft_45_b,fft_46_b,fft_47_b,fft_48_b,fft_49_b,fft_50_b,fft_51_b,fft_52_b,fft_53_b,fft_54_b,fft_55_b,fft_56_b,fft_57_b,fft_58_b,fft_59_b,fft_60_b,fft_61_b,fft_62_b,fft_63_b,fft_64_b,fft_65_b,fft_66_b,fft_67_b,fft_68_b,fft_69_b,fft_70_b,fft_71_b,fft_72_b,fft_73_b,fft_74_b,fft_75_b,fft_76_b,fft_77_b,fft_78_b,fft_79_b,fft_80_b,fft_81_b,fft_82_b,fft_83_b,fft_84_b,fft_85_b,fft_86_b,fft_87_b,fft_88_b,fft_89_b,fft_90_b,fft_91_b,fft_92_b,fft_93_b,fft_94_b,fft_95_b,fft_96_b,fft_97_b,fft_98_b,fft_99_b,fft_100_b,fft_101_b,fft_102_b,fft_103_b,fft_104_b,fft_105_b,fft_106_b,fft_107_b,fft_108_b,fft_109_b,fft_110_b,fft_111_b,fft_112_b,fft_113_b,fft_114_b,fft_115_b,fft_116_b,fft_117_b,fft_118_b,fft_119_b,fft_120_b,fft_121_b,fft_122_b,fft_123_b,fft_124_b,fft_125_b,fft_126_b,fft_127_b,fft_128_b,fft_129_b,fft_130_b,fft_131_b,fft_132_b,fft_133_b,fft_134_b,fft_135_b,fft_136_b,fft_137_b,fft_138_b,fft_139_b,fft_140_b,fft_141_b,fft_142_b,fft_143_b,fft_144_b,fft_145_b,fft_146_b,fft_147_b,fft_148_b,fft_149_b,fft_150_b,fft_151_b,fft_152_b,fft_153_b,fft_154_b,fft_155_b,fft_156_b,fft_157_b,fft_158_b,fft_159_b,fft_160_b,fft_161_b,fft_162_b,fft_163_b,fft_164_b,fft_165_b,fft_166_b,fft_167_b,fft_168_b,fft_169_b,fft_170_b,fft_171_b,fft_172_b,fft_173_b,fft_174_b,fft_175_b,fft_176_b,fft_177_b,fft_178_b,fft_179_b,fft_180_b,fft_181_b,fft_182_b,fft_183_b,fft_184_b,fft_185_b,fft_186_b,fft_187_b,fft_188_b,fft_189_b,fft_190_b,fft_191_b,fft_192_b,fft_193_b,fft_194_b,fft_195_b,fft_196_b,fft_197_b,fft_198_b,fft_199_b,fft_200_b,fft_201_b,fft_202_b,fft_203_b,fft_204_b,fft_205_b,fft_206_b,fft_207_b,fft_208_b,fft_209_b,fft_210_b,fft_211_b,fft_212_b,fft_213_b,fft_214_b,fft_215_b,fft_216_b,fft_217_b,fft_218_b,fft_219_b,fft_220_b,fft_221_b,fft_222_b,fft_223_b,fft_224_b,fft_225_b,fft_226_b,fft_227_b,fft_228_b,fft_229_b,fft_230_b,fft_231_b,fft_232_b,fft_233_b,fft_234_b,fft_235_b,fft_236_b,fft_237_b,fft_238_b,fft_239_b,fft_240_b,fft_241_b,fft_242_b,fft_243_b,fft_244_b,fft_245_b,fft_246_b,fft_247_b,fft_248_b,fft_249_b,fft_250_b,fft_251_b,fft_252_b,fft_253_b,fft_254_b,fft_255_b,fft_256_b,fft_257_b,fft_258_b,fft_259_b,fft_260_b,fft_261_b,fft_262_b,fft_263_b,fft_264_b,fft_265_b,fft_266_b,fft_267_b,fft_268_b,fft_269_b,fft_270_b,fft_271_b,fft_272_b,fft_273_b,fft_274_b,fft_275_b,fft_276_b,fft_277_b,fft_278_b,fft_279_b,fft_280_b,fft_281_b,fft_282_b,fft_283_b,fft_284_b,fft_285_b,fft_286_b,fft_287_b,fft_288_b,fft_289_b,fft_290_b,fft_291_b,fft_292_b,fft_293_b,fft_294_b,fft_295_b,fft_296_b,fft_297_b,fft_298_b,fft_299_b,fft_300_b,fft_301_b,fft_302_b,fft_303_b,fft_304_b,fft_305_b,fft_306_b,fft_307_b,fft_308_b,fft_309_b,fft_310_b,fft_311_b,fft_312_b,fft_313_b,fft_314_b,fft_315_b,fft_316_b,fft_317_b,fft_318_b,fft_319_b,fft_320_b,fft_321_b,fft_322_b,fft_323_b,fft_324_b,fft_325_b,fft_326_b,fft_327_b,fft_328_b,fft_329_b,fft_330_b,fft_331_b,fft_332_b,fft_333_b,fft_334_b,fft_335_b,fft_336_b,fft_337_b,fft_338_b,fft_339_b,fft_340_b,fft_341_b,fft_342_b,fft_343_b,fft_344_b,fft_345_b,fft_346_b,fft_347_b,fft_348_b,fft_349_b,fft_350_b,fft_351_b,fft_352_b,fft_353_b,fft_354_b,fft_355_b,fft_356_b,fft_357_b,fft_358_b,fft_359_b,fft_360_b,fft_361_b,fft_362_b,fft_363_b,fft_364_b,fft_365_b,fft_366_b,fft_367_b,fft_368_b,fft_369_b,fft_370_b,fft_371_b,fft_372_b,fft_373_b,fft_374_b,fft_375_b,fft_376_b,fft_377_b,fft_378_b,fft_379_b,fft_380_b,fft_381_b,fft_382_b,fft_383_b,fft_384_b,fft_385_b,fft_386_b,fft_387_b,fft_388_b,fft_389_b,fft_390_b,fft_391_b,fft_392_b,fft_393_b,fft_394_b,fft_395_b,fft_396_b,fft_397_b,fft_398_b,fft_399_b,fft_400_b,fft_401_b,fft_402_b,fft_403_b,fft_404_b,fft_405_b,fft_406_b,fft_407_b,fft_408_b,fft_409_b,fft_410_b,fft_411_b,fft_412_b,fft_413_b,fft_414_b,fft_415_b,fft_416_b,fft_417_b,fft_418_b,fft_419_b,fft_420_b,fft_421_b,fft_422_b,fft_423_b,fft_424_b,fft_425_b,fft_426_b,fft_427_b,fft_428_b,fft_429_b,fft_430_b,fft_431_b,fft_432_b,fft_433_b,fft_434_b,fft_435_b,fft_436_b,fft_437_b,fft_438_b,fft_439_b,fft_440_b,fft_441_b,fft_442_b,fft_443_b,fft_444_b,fft_445_b,fft_446_b,fft_447_b,fft_448_b,fft_449_b,fft_450_b,fft_451_b,fft_452_b,fft_453_b,fft_454_b,fft_455_b,fft_456_b,fft_457_b,fft_458_b,fft_459_b,fft_460_b,fft_461_b,fft_462_b,fft_463_b,fft_464_b,fft_465_b,fft_466_b,fft_467_b,fft_468_b,fft_469_b,fft_470_b,fft_471_b,fft_472_b,fft_473_b,fft_474_b,fft_475_b,fft_476_b,fft_477_b,fft_478_b,fft_479_b,fft_480_b,fft_481_b,fft_482_b,fft_483_b,fft_484_b,fft_485_b,fft_486_b,fft_487_b,fft_488_b,fft_489_b,fft_490_b,fft_491_b,fft_492_b,fft_493_b,fft_494_b,fft_495_b,fft_496_b,fft_497_b,fft_498_b,fft_499_b,fft_500_b,fft_501_b,fft_502_b,fft_503_b,fft_504_b,fft_505_b,fft_506_b,fft_507_b,fft_508_b,fft_509_b,fft_510_b,fft_511_b,fft_512_b,fft_513_b,fft_514_b,fft_515_b,fft_516_b,fft_517_b,fft_518_b,fft_519_b,fft_520_b,fft_521_b,fft_522_b,fft_523_b,fft_524_b,fft_525_b,fft_526_b,fft_527_b,fft_528_b,fft_529_b,fft_530_b,fft_531_b,fft_532_b,fft_533_b,fft_534_b,fft_535_b,fft_536_b,fft_537_b,fft_538_b,fft_539_b,fft_540_b,fft_541_b,fft_542_b,fft_543_b,fft_544_b,fft_545_b,fft_546_b,fft_547_b,fft_548_b,fft_549_b,fft_550_b,fft_551_b,fft_552_b,fft_553_b,fft_554_b,fft_555_b,fft_556_b,fft_557_b,fft_558_b,fft_559_b,fft_560_b,fft_561_b,fft_562_b,fft_563_b,fft_564_b,fft_565_b,fft_566_b,fft_567_b,fft_568_b,fft_569_b,fft_570_b,fft_571_b,fft_572_b,fft_573_b,fft_574_b,fft_575_b,fft_576_b,fft_577_b,fft_578_b,fft_579_b,fft_580_b,fft_581_b,fft_582_b,fft_583_b,fft_584_b,fft_585_b,fft_586_b,fft_587_b,fft_588_b,fft_589_b,fft_590_b,fft_591_b,fft_592_b,fft_593_b,fft_594_b,fft_595_b,fft_596_b,fft_597_b,fft_598_b,fft_599_b,fft_600_b,fft_601_b,fft_602_b,fft_603_b,fft_604_b,fft_605_b,fft_606_b,fft_607_b,fft_608_b,fft_609_b,fft_610_b,fft_611_b,fft_612_b,fft_613_b,fft_614_b,fft_615_b,fft_616_b,fft_617_b,fft_618_b,fft_619_b,fft_620_b,fft_621_b,fft_622_b,fft_623_b,fft_624_b,fft_625_b,fft_626_b,fft_627_b,fft_628_b,fft_629_b,fft_630_b,fft_631_b,fft_632_b,fft_633_b,fft_634_b,fft_635_b,fft_636_b,fft_637_b,fft_638_b,fft_639_b,fft_640_b,fft_641_b,fft_642_b,fft_643_b,fft_644_b,fft_645_b,fft_646_b,fft_647_b,fft_648_b,fft_649_b,fft_650_b,fft_651_b,fft_652_b,fft_653_b,fft_654_b,fft_655_b,fft_656_b,fft_657_b,fft_658_b,fft_659_b,fft_660_b,fft_661_b,fft_662_b,fft_663_b,fft_664_b,fft_665_b,fft_666_b,fft_667_b,fft_668_b,fft_669_b,fft_670_b,fft_671_b,fft_672_b,fft_673_b,fft_674_b,fft_675_b,fft_676_b,fft_677_b,fft_678_b,fft_679_b,fft_680_b,fft_681_b,fft_682_b,fft_683_b,fft_684_b,fft_685_b,fft_686_b,fft_687_b,fft_688_b,fft_689_b,fft_690_b,fft_691_b,fft_692_b,fft_693_b,fft_694_b,fft_695_b,fft_696_b,fft_697_b,fft_698_b,fft_699_b,fft_700_b,fft_701_b,fft_702_b,fft_703_b,fft_704_b,fft_705_b,fft_706_b,fft_707_b,fft_708_b,fft_709_b,fft_710_b,fft_711_b,fft_712_b,fft_713_b,fft_714_b,fft_715_b,fft_716_b,fft_717_b,fft_718_b,fft_719_b,fft_720_b,fft_721_b,fft_722_b,fft_723_b,fft_724_b,fft_725_b,fft_726_b,fft_727_b,fft_728_b,fft_729_b,fft_730_b,fft_731_b,fft_732_b,fft_733_b,fft_734_b,fft_735_b,fft_736_b,fft_737_b,fft_738_b,fft_739_b,fft_740_b,fft_741_b,fft_742_b,fft_743_b,fft_744_b,fft_745_b,fft_746_b,fft_747_b,fft_748_b,fft_749_b,label\n"
   ]
  }
 ]
}